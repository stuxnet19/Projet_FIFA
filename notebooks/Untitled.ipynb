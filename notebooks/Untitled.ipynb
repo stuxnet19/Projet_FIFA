{
 "cells": [
  {
   "cell_type": "code",
   "execution_count": 1,
   "metadata": {
    "ExecuteTime": {
     "end_time": "2021-05-17T17:37:35.088915Z",
     "start_time": "2021-05-17T17:37:34.255705Z"
    }
   },
   "outputs": [],
   "source": [
    "import pandas as p\n",
    "import numpy as np\n",
    "import sqlite3\n",
    "import plotly as ply\n",
    "import plotly.express as px\n",
    "import plotly.io as pio\n",
    "import plotly.graph_objects as go\n",
    "import datetime as dt\n",
    "import pickle"
   ]
  },
  {
   "cell_type": "code",
   "execution_count": 2,
   "metadata": {
    "ExecuteTime": {
     "end_time": "2021-05-17T17:38:02.901861Z",
     "start_time": "2021-05-17T17:37:50.113193Z"
    }
   },
   "outputs": [],
   "source": [
    "con = sqlite3.connect(\"../data/database.sqlite\")\n",
    "Country = p.read_sql_query(\"SELECT * from Country\", con)\n",
    "league = p.read_sql_query(\"SELECT * from League\", con)\n",
    "match = p.read_sql_query(\"SELECT * from Match\", con)\n",
    "player = p.read_sql_query(\"SELECT * from Player\", con)\n",
    "player_Attributes = p.read_sql_query(\"SELECT * from Player_Attributes\", con)\n",
    "team = p.read_sql_query(\"SELECT * from Team\", con)\n",
    "team_Attributes = p.read_sql_query(\"SELECT * from Team_Attributes\", con)\n",
    "data = p.read_csv('../data/data.csv')\n",
    "\n",
    "con.close()"
   ]
  },
  {
   "cell_type": "code",
   "execution_count": null,
   "metadata": {},
   "outputs": [],
   "source": [
    "# supprimer tout les NA du dataset player_attribute\n",
    "player_Attributes.dropna().shape\n",
    "# changer le format de la colone \"date\" en datetime\n",
    "team_Attributes[\"date\"] = p.to_datetime(team_Attributes[\"date\"])\n",
    "# récupérer l'année\n",
    "team_Attributes[\"year\"]=team_Attributes[\"date\"]\n",
    "team_Attributes[\"year\"]=team_Attributes[\"year\"].apply(lambda x: x.year)\n",
    "\n",
    "# récupération des résultat des matchs\n",
    "match_2 = match.iloc[:,0:11]\n",
    "set(match_2[\"away_team_api_id\"].unique()).difference(set(match_2[\"home_team_api_id\"].unique()))\n",
    "match_2[\"outcome\"] = match_2[\"home_team_goal\"]-match_2[\"away_team_goal\"]\n",
    "\n",
    "match_2[\"away_team_api_id\"] = match_2[\"away_team_api_id\"].astype(str)\n",
    "match_2[\"home_team_api_id\"] = match_2[\"home_team_api_id\"].astype(str)\n",
    "\n",
    "match_2[\"winner\"] = \"draw\"\n",
    "\n",
    "match_2.loc[match_2[\"outcome\"]>0,\"winner\"]= match_2.loc[match_2[\"outcome\"]>0,\"home_team_api_id\"]\n"
   ]
  }
 ],
 "metadata": {
  "kernelspec": {
   "display_name": "Python 3",
   "language": "python",
   "name": "python3"
  },
  "language_info": {
   "codemirror_mode": {
    "name": "ipython",
    "version": 3
   },
   "file_extension": ".py",
   "mimetype": "text/x-python",
   "name": "python",
   "nbconvert_exporter": "python",
   "pygments_lexer": "ipython3",
   "version": "3.7.7"
  },
  "toc": {
   "base_numbering": 1,
   "nav_menu": {},
   "number_sections": false,
   "sideBar": true,
   "skip_h1_title": false,
   "title_cell": "Table of Contents",
   "title_sidebar": "Contents",
   "toc_cell": false,
   "toc_position": {},
   "toc_section_display": true,
   "toc_window_display": false
  }
 },
 "nbformat": 4,
 "nbformat_minor": 4
}
