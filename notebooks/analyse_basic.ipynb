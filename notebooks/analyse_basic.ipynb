{
 "cells": [
  {
   "cell_type": "markdown",
   "metadata": {},
   "source": [
    "# Projet Machine learning"
   ]
  },
  {
   "cell_type": "code",
   "execution_count": 1,
   "metadata": {
    "ExecuteTime": {
     "end_time": "2021-05-03T17:25:49.647403Z",
     "start_time": "2021-05-03T17:25:49.110440Z"
    }
   },
   "outputs": [],
   "source": [
    "import pandas as pd\n",
    "import sqlite3\n",
    "import matplotlib.pyplot as plt\n",
    "import seaborn as sns\n",
    "import missingno as msno\n",
    "import numpy as np\n",
    "import re\n",
    "from pandas_ods_reader import read_ods"
   ]
  },
  {
   "cell_type": "code",
   "execution_count": 2,
   "metadata": {
    "ExecuteTime": {
     "end_time": "2021-05-03T17:26:00.751942Z",
     "start_time": "2021-05-03T17:25:49.649651Z"
    }
   },
   "outputs": [],
   "source": [
    "con = sqlite3.connect(\"./data/database.sqlite\")\n",
    "#Country = pd.read_sql_query(\"SELECT * from Country\", con)\n",
    "League = pd.read_sql_query(\"SELECT * from League\", con)\n",
    "Match = pd.read_sql_query(\"SELECT * from Match\", con)\n",
    "Player = pd.read_sql_query(\"SELECT * from Player\", con)\n",
    "Player_Attributes = pd.read_sql_query(\"SELECT * from Player_Attributes\", con)\n",
    "Team = pd.read_sql_query(\"SELECT * from Team\", con)\n",
    "Team_Attributes = pd.read_sql_query(\"SELECT * from Team_Attributes\", con)\n",
    "player_csv = pd.read_csv('./data/data.csv')\n",
    "\n",
    "con.close()"
   ]
  },
  {
   "cell_type": "markdown",
   "metadata": {},
   "source": [
    "# visualisation des missing values"
   ]
  },
  {
   "cell_type": "code",
   "execution_count": 3,
   "metadata": {
    "ExecuteTime": {
     "end_time": "2021-05-03T17:26:00.805812Z",
     "start_time": "2021-05-03T17:26:00.755799Z"
    }
   },
   "outputs": [
    {
     "data": {
      "text/html": [
       "<div>\n",
       "<style scoped>\n",
       "    .dataframe tbody tr th:only-of-type {\n",
       "        vertical-align: middle;\n",
       "    }\n",
       "\n",
       "    .dataframe tbody tr th {\n",
       "        vertical-align: top;\n",
       "    }\n",
       "\n",
       "    .dataframe thead th {\n",
       "        text-align: right;\n",
       "    }\n",
       "</style>\n",
       "<table border=\"1\" class=\"dataframe\">\n",
       "  <thead>\n",
       "    <tr style=\"text-align: right;\">\n",
       "      <th></th>\n",
       "      <th>id</th>\n",
       "      <th>player_fifa_api_id</th>\n",
       "      <th>player_api_id</th>\n",
       "      <th>date</th>\n",
       "      <th>overall_rating</th>\n",
       "      <th>potential</th>\n",
       "      <th>preferred_foot</th>\n",
       "      <th>attacking_work_rate</th>\n",
       "      <th>defensive_work_rate</th>\n",
       "      <th>crossing</th>\n",
       "      <th>...</th>\n",
       "      <th>vision</th>\n",
       "      <th>penalties</th>\n",
       "      <th>marking</th>\n",
       "      <th>standing_tackle</th>\n",
       "      <th>sliding_tackle</th>\n",
       "      <th>gk_diving</th>\n",
       "      <th>gk_handling</th>\n",
       "      <th>gk_kicking</th>\n",
       "      <th>gk_positioning</th>\n",
       "      <th>gk_reflexes</th>\n",
       "    </tr>\n",
       "  </thead>\n",
       "  <tbody>\n",
       "    <tr>\n",
       "      <th>0</th>\n",
       "      <td>1</td>\n",
       "      <td>218353</td>\n",
       "      <td>505942</td>\n",
       "      <td>2016-02-18 00:00:00</td>\n",
       "      <td>67.0</td>\n",
       "      <td>71.0</td>\n",
       "      <td>right</td>\n",
       "      <td>medium</td>\n",
       "      <td>medium</td>\n",
       "      <td>49.0</td>\n",
       "      <td>...</td>\n",
       "      <td>54.0</td>\n",
       "      <td>48.0</td>\n",
       "      <td>65.0</td>\n",
       "      <td>69.0</td>\n",
       "      <td>69.0</td>\n",
       "      <td>6.0</td>\n",
       "      <td>11.0</td>\n",
       "      <td>10.0</td>\n",
       "      <td>8.0</td>\n",
       "      <td>8.0</td>\n",
       "    </tr>\n",
       "    <tr>\n",
       "      <th>1</th>\n",
       "      <td>2</td>\n",
       "      <td>218353</td>\n",
       "      <td>505942</td>\n",
       "      <td>2015-11-19 00:00:00</td>\n",
       "      <td>67.0</td>\n",
       "      <td>71.0</td>\n",
       "      <td>right</td>\n",
       "      <td>medium</td>\n",
       "      <td>medium</td>\n",
       "      <td>49.0</td>\n",
       "      <td>...</td>\n",
       "      <td>54.0</td>\n",
       "      <td>48.0</td>\n",
       "      <td>65.0</td>\n",
       "      <td>69.0</td>\n",
       "      <td>69.0</td>\n",
       "      <td>6.0</td>\n",
       "      <td>11.0</td>\n",
       "      <td>10.0</td>\n",
       "      <td>8.0</td>\n",
       "      <td>8.0</td>\n",
       "    </tr>\n",
       "    <tr>\n",
       "      <th>2</th>\n",
       "      <td>3</td>\n",
       "      <td>218353</td>\n",
       "      <td>505942</td>\n",
       "      <td>2015-09-21 00:00:00</td>\n",
       "      <td>62.0</td>\n",
       "      <td>66.0</td>\n",
       "      <td>right</td>\n",
       "      <td>medium</td>\n",
       "      <td>medium</td>\n",
       "      <td>49.0</td>\n",
       "      <td>...</td>\n",
       "      <td>54.0</td>\n",
       "      <td>48.0</td>\n",
       "      <td>65.0</td>\n",
       "      <td>66.0</td>\n",
       "      <td>69.0</td>\n",
       "      <td>6.0</td>\n",
       "      <td>11.0</td>\n",
       "      <td>10.0</td>\n",
       "      <td>8.0</td>\n",
       "      <td>8.0</td>\n",
       "    </tr>\n",
       "    <tr>\n",
       "      <th>3</th>\n",
       "      <td>4</td>\n",
       "      <td>218353</td>\n",
       "      <td>505942</td>\n",
       "      <td>2015-03-20 00:00:00</td>\n",
       "      <td>61.0</td>\n",
       "      <td>65.0</td>\n",
       "      <td>right</td>\n",
       "      <td>medium</td>\n",
       "      <td>medium</td>\n",
       "      <td>48.0</td>\n",
       "      <td>...</td>\n",
       "      <td>53.0</td>\n",
       "      <td>47.0</td>\n",
       "      <td>62.0</td>\n",
       "      <td>63.0</td>\n",
       "      <td>66.0</td>\n",
       "      <td>5.0</td>\n",
       "      <td>10.0</td>\n",
       "      <td>9.0</td>\n",
       "      <td>7.0</td>\n",
       "      <td>7.0</td>\n",
       "    </tr>\n",
       "    <tr>\n",
       "      <th>4</th>\n",
       "      <td>5</td>\n",
       "      <td>218353</td>\n",
       "      <td>505942</td>\n",
       "      <td>2007-02-22 00:00:00</td>\n",
       "      <td>61.0</td>\n",
       "      <td>65.0</td>\n",
       "      <td>right</td>\n",
       "      <td>medium</td>\n",
       "      <td>medium</td>\n",
       "      <td>48.0</td>\n",
       "      <td>...</td>\n",
       "      <td>53.0</td>\n",
       "      <td>47.0</td>\n",
       "      <td>62.0</td>\n",
       "      <td>63.0</td>\n",
       "      <td>66.0</td>\n",
       "      <td>5.0</td>\n",
       "      <td>10.0</td>\n",
       "      <td>9.0</td>\n",
       "      <td>7.0</td>\n",
       "      <td>7.0</td>\n",
       "    </tr>\n",
       "  </tbody>\n",
       "</table>\n",
       "<p>5 rows × 42 columns</p>\n",
       "</div>"
      ],
      "text/plain": [
       "   id  player_fifa_api_id  player_api_id                 date  overall_rating  \\\n",
       "0   1              218353         505942  2016-02-18 00:00:00            67.0   \n",
       "1   2              218353         505942  2015-11-19 00:00:00            67.0   \n",
       "2   3              218353         505942  2015-09-21 00:00:00            62.0   \n",
       "3   4              218353         505942  2015-03-20 00:00:00            61.0   \n",
       "4   5              218353         505942  2007-02-22 00:00:00            61.0   \n",
       "\n",
       "   potential preferred_foot attacking_work_rate defensive_work_rate  crossing  \\\n",
       "0       71.0          right              medium              medium      49.0   \n",
       "1       71.0          right              medium              medium      49.0   \n",
       "2       66.0          right              medium              medium      49.0   \n",
       "3       65.0          right              medium              medium      48.0   \n",
       "4       65.0          right              medium              medium      48.0   \n",
       "\n",
       "   ...  vision  penalties  marking  standing_tackle  sliding_tackle  \\\n",
       "0  ...    54.0       48.0     65.0             69.0            69.0   \n",
       "1  ...    54.0       48.0     65.0             69.0            69.0   \n",
       "2  ...    54.0       48.0     65.0             66.0            69.0   \n",
       "3  ...    53.0       47.0     62.0             63.0            66.0   \n",
       "4  ...    53.0       47.0     62.0             63.0            66.0   \n",
       "\n",
       "   gk_diving  gk_handling  gk_kicking  gk_positioning  gk_reflexes  \n",
       "0        6.0         11.0        10.0             8.0          8.0  \n",
       "1        6.0         11.0        10.0             8.0          8.0  \n",
       "2        6.0         11.0        10.0             8.0          8.0  \n",
       "3        5.0         10.0         9.0             7.0          7.0  \n",
       "4        5.0         10.0         9.0             7.0          7.0  \n",
       "\n",
       "[5 rows x 42 columns]"
      ]
     },
     "execution_count": 3,
     "metadata": {},
     "output_type": "execute_result"
    }
   ],
   "source": [
    "Player_Attributes.head()"
   ]
  },
  {
   "cell_type": "code",
   "execution_count": 4,
   "metadata": {
    "ExecuteTime": {
     "end_time": "2021-05-03T17:26:00.818398Z",
     "start_time": "2021-05-03T17:26:00.808207Z"
    }
   },
   "outputs": [
    {
     "data": {
      "text/html": [
       "<div>\n",
       "<style scoped>\n",
       "    .dataframe tbody tr th:only-of-type {\n",
       "        vertical-align: middle;\n",
       "    }\n",
       "\n",
       "    .dataframe tbody tr th {\n",
       "        vertical-align: top;\n",
       "    }\n",
       "\n",
       "    .dataframe thead th {\n",
       "        text-align: right;\n",
       "    }\n",
       "</style>\n",
       "<table border=\"1\" class=\"dataframe\">\n",
       "  <thead>\n",
       "    <tr style=\"text-align: right;\">\n",
       "      <th></th>\n",
       "      <th>id</th>\n",
       "      <th>country_id</th>\n",
       "      <th>name</th>\n",
       "    </tr>\n",
       "  </thead>\n",
       "  <tbody>\n",
       "    <tr>\n",
       "      <th>0</th>\n",
       "      <td>1</td>\n",
       "      <td>1</td>\n",
       "      <td>Belgium Jupiler League</td>\n",
       "    </tr>\n",
       "    <tr>\n",
       "      <th>1</th>\n",
       "      <td>1729</td>\n",
       "      <td>1729</td>\n",
       "      <td>England Premier League</td>\n",
       "    </tr>\n",
       "    <tr>\n",
       "      <th>2</th>\n",
       "      <td>4769</td>\n",
       "      <td>4769</td>\n",
       "      <td>France Ligue 1</td>\n",
       "    </tr>\n",
       "    <tr>\n",
       "      <th>3</th>\n",
       "      <td>7809</td>\n",
       "      <td>7809</td>\n",
       "      <td>Germany 1. Bundesliga</td>\n",
       "    </tr>\n",
       "    <tr>\n",
       "      <th>4</th>\n",
       "      <td>10257</td>\n",
       "      <td>10257</td>\n",
       "      <td>Italy Serie A</td>\n",
       "    </tr>\n",
       "    <tr>\n",
       "      <th>5</th>\n",
       "      <td>13274</td>\n",
       "      <td>13274</td>\n",
       "      <td>Netherlands Eredivisie</td>\n",
       "    </tr>\n",
       "    <tr>\n",
       "      <th>6</th>\n",
       "      <td>15722</td>\n",
       "      <td>15722</td>\n",
       "      <td>Poland Ekstraklasa</td>\n",
       "    </tr>\n",
       "    <tr>\n",
       "      <th>7</th>\n",
       "      <td>17642</td>\n",
       "      <td>17642</td>\n",
       "      <td>Portugal Liga ZON Sagres</td>\n",
       "    </tr>\n",
       "    <tr>\n",
       "      <th>8</th>\n",
       "      <td>19694</td>\n",
       "      <td>19694</td>\n",
       "      <td>Scotland Premier League</td>\n",
       "    </tr>\n",
       "    <tr>\n",
       "      <th>9</th>\n",
       "      <td>21518</td>\n",
       "      <td>21518</td>\n",
       "      <td>Spain LIGA BBVA</td>\n",
       "    </tr>\n",
       "    <tr>\n",
       "      <th>10</th>\n",
       "      <td>24558</td>\n",
       "      <td>24558</td>\n",
       "      <td>Switzerland Super League</td>\n",
       "    </tr>\n",
       "  </tbody>\n",
       "</table>\n",
       "</div>"
      ],
      "text/plain": [
       "       id  country_id                      name\n",
       "0       1           1    Belgium Jupiler League\n",
       "1    1729        1729    England Premier League\n",
       "2    4769        4769            France Ligue 1\n",
       "3    7809        7809     Germany 1. Bundesliga\n",
       "4   10257       10257             Italy Serie A\n",
       "5   13274       13274    Netherlands Eredivisie\n",
       "6   15722       15722        Poland Ekstraklasa\n",
       "7   17642       17642  Portugal Liga ZON Sagres\n",
       "8   19694       19694   Scotland Premier League\n",
       "9   21518       21518           Spain LIGA BBVA\n",
       "10  24558       24558  Switzerland Super League"
      ]
     },
     "execution_count": 4,
     "metadata": {},
     "output_type": "execute_result"
    }
   ],
   "source": [
    "League"
   ]
  },
  {
   "cell_type": "code",
   "execution_count": 5,
   "metadata": {
    "ExecuteTime": {
     "end_time": "2021-05-03T17:26:00.851624Z",
     "start_time": "2021-05-03T17:26:00.821266Z"
    }
   },
   "outputs": [
    {
     "data": {
      "text/html": [
       "<div>\n",
       "<style scoped>\n",
       "    .dataframe tbody tr th:only-of-type {\n",
       "        vertical-align: middle;\n",
       "    }\n",
       "\n",
       "    .dataframe tbody tr th {\n",
       "        vertical-align: top;\n",
       "    }\n",
       "\n",
       "    .dataframe thead th {\n",
       "        text-align: right;\n",
       "    }\n",
       "</style>\n",
       "<table border=\"1\" class=\"dataframe\">\n",
       "  <thead>\n",
       "    <tr style=\"text-align: right;\">\n",
       "      <th></th>\n",
       "      <th>Unnamed: 0</th>\n",
       "      <th>ID</th>\n",
       "      <th>Name</th>\n",
       "      <th>Age</th>\n",
       "      <th>Photo</th>\n",
       "      <th>Nationality</th>\n",
       "      <th>Flag</th>\n",
       "      <th>Overall</th>\n",
       "      <th>Potential</th>\n",
       "      <th>Club</th>\n",
       "      <th>...</th>\n",
       "      <th>Composure</th>\n",
       "      <th>Marking</th>\n",
       "      <th>StandingTackle</th>\n",
       "      <th>SlidingTackle</th>\n",
       "      <th>GKDiving</th>\n",
       "      <th>GKHandling</th>\n",
       "      <th>GKKicking</th>\n",
       "      <th>GKPositioning</th>\n",
       "      <th>GKReflexes</th>\n",
       "      <th>Release Clause</th>\n",
       "    </tr>\n",
       "  </thead>\n",
       "  <tbody>\n",
       "    <tr>\n",
       "      <th>0</th>\n",
       "      <td>0</td>\n",
       "      <td>158023</td>\n",
       "      <td>L. Messi</td>\n",
       "      <td>31</td>\n",
       "      <td>https://cdn.sofifa.org/players/4/19/158023.png</td>\n",
       "      <td>Argentina</td>\n",
       "      <td>https://cdn.sofifa.org/flags/52.png</td>\n",
       "      <td>94</td>\n",
       "      <td>94</td>\n",
       "      <td>FC Barcelona</td>\n",
       "      <td>...</td>\n",
       "      <td>96.0</td>\n",
       "      <td>33.0</td>\n",
       "      <td>28.0</td>\n",
       "      <td>26.0</td>\n",
       "      <td>6.0</td>\n",
       "      <td>11.0</td>\n",
       "      <td>15.0</td>\n",
       "      <td>14.0</td>\n",
       "      <td>8.0</td>\n",
       "      <td>€226.5M</td>\n",
       "    </tr>\n",
       "    <tr>\n",
       "      <th>1</th>\n",
       "      <td>1</td>\n",
       "      <td>20801</td>\n",
       "      <td>Cristiano Ronaldo</td>\n",
       "      <td>33</td>\n",
       "      <td>https://cdn.sofifa.org/players/4/19/20801.png</td>\n",
       "      <td>Portugal</td>\n",
       "      <td>https://cdn.sofifa.org/flags/38.png</td>\n",
       "      <td>94</td>\n",
       "      <td>94</td>\n",
       "      <td>Juventus</td>\n",
       "      <td>...</td>\n",
       "      <td>95.0</td>\n",
       "      <td>28.0</td>\n",
       "      <td>31.0</td>\n",
       "      <td>23.0</td>\n",
       "      <td>7.0</td>\n",
       "      <td>11.0</td>\n",
       "      <td>15.0</td>\n",
       "      <td>14.0</td>\n",
       "      <td>11.0</td>\n",
       "      <td>€127.1M</td>\n",
       "    </tr>\n",
       "    <tr>\n",
       "      <th>2</th>\n",
       "      <td>2</td>\n",
       "      <td>190871</td>\n",
       "      <td>Neymar Jr</td>\n",
       "      <td>26</td>\n",
       "      <td>https://cdn.sofifa.org/players/4/19/190871.png</td>\n",
       "      <td>Brazil</td>\n",
       "      <td>https://cdn.sofifa.org/flags/54.png</td>\n",
       "      <td>92</td>\n",
       "      <td>93</td>\n",
       "      <td>Paris Saint-Germain</td>\n",
       "      <td>...</td>\n",
       "      <td>94.0</td>\n",
       "      <td>27.0</td>\n",
       "      <td>24.0</td>\n",
       "      <td>33.0</td>\n",
       "      <td>9.0</td>\n",
       "      <td>9.0</td>\n",
       "      <td>15.0</td>\n",
       "      <td>15.0</td>\n",
       "      <td>11.0</td>\n",
       "      <td>€228.1M</td>\n",
       "    </tr>\n",
       "    <tr>\n",
       "      <th>3</th>\n",
       "      <td>3</td>\n",
       "      <td>193080</td>\n",
       "      <td>De Gea</td>\n",
       "      <td>27</td>\n",
       "      <td>https://cdn.sofifa.org/players/4/19/193080.png</td>\n",
       "      <td>Spain</td>\n",
       "      <td>https://cdn.sofifa.org/flags/45.png</td>\n",
       "      <td>91</td>\n",
       "      <td>93</td>\n",
       "      <td>Manchester United</td>\n",
       "      <td>...</td>\n",
       "      <td>68.0</td>\n",
       "      <td>15.0</td>\n",
       "      <td>21.0</td>\n",
       "      <td>13.0</td>\n",
       "      <td>90.0</td>\n",
       "      <td>85.0</td>\n",
       "      <td>87.0</td>\n",
       "      <td>88.0</td>\n",
       "      <td>94.0</td>\n",
       "      <td>€138.6M</td>\n",
       "    </tr>\n",
       "    <tr>\n",
       "      <th>4</th>\n",
       "      <td>4</td>\n",
       "      <td>192985</td>\n",
       "      <td>K. De Bruyne</td>\n",
       "      <td>27</td>\n",
       "      <td>https://cdn.sofifa.org/players/4/19/192985.png</td>\n",
       "      <td>Belgium</td>\n",
       "      <td>https://cdn.sofifa.org/flags/7.png</td>\n",
       "      <td>91</td>\n",
       "      <td>92</td>\n",
       "      <td>Manchester City</td>\n",
       "      <td>...</td>\n",
       "      <td>88.0</td>\n",
       "      <td>68.0</td>\n",
       "      <td>58.0</td>\n",
       "      <td>51.0</td>\n",
       "      <td>15.0</td>\n",
       "      <td>13.0</td>\n",
       "      <td>5.0</td>\n",
       "      <td>10.0</td>\n",
       "      <td>13.0</td>\n",
       "      <td>€196.4M</td>\n",
       "    </tr>\n",
       "  </tbody>\n",
       "</table>\n",
       "<p>5 rows × 89 columns</p>\n",
       "</div>"
      ],
      "text/plain": [
       "   Unnamed: 0      ID               Name  Age  \\\n",
       "0           0  158023           L. Messi   31   \n",
       "1           1   20801  Cristiano Ronaldo   33   \n",
       "2           2  190871          Neymar Jr   26   \n",
       "3           3  193080             De Gea   27   \n",
       "4           4  192985       K. De Bruyne   27   \n",
       "\n",
       "                                            Photo Nationality  \\\n",
       "0  https://cdn.sofifa.org/players/4/19/158023.png   Argentina   \n",
       "1   https://cdn.sofifa.org/players/4/19/20801.png    Portugal   \n",
       "2  https://cdn.sofifa.org/players/4/19/190871.png      Brazil   \n",
       "3  https://cdn.sofifa.org/players/4/19/193080.png       Spain   \n",
       "4  https://cdn.sofifa.org/players/4/19/192985.png     Belgium   \n",
       "\n",
       "                                  Flag  Overall  Potential  \\\n",
       "0  https://cdn.sofifa.org/flags/52.png       94         94   \n",
       "1  https://cdn.sofifa.org/flags/38.png       94         94   \n",
       "2  https://cdn.sofifa.org/flags/54.png       92         93   \n",
       "3  https://cdn.sofifa.org/flags/45.png       91         93   \n",
       "4   https://cdn.sofifa.org/flags/7.png       91         92   \n",
       "\n",
       "                  Club  ... Composure Marking StandingTackle  SlidingTackle  \\\n",
       "0         FC Barcelona  ...      96.0    33.0           28.0           26.0   \n",
       "1             Juventus  ...      95.0    28.0           31.0           23.0   \n",
       "2  Paris Saint-Germain  ...      94.0    27.0           24.0           33.0   \n",
       "3    Manchester United  ...      68.0    15.0           21.0           13.0   \n",
       "4      Manchester City  ...      88.0    68.0           58.0           51.0   \n",
       "\n",
       "  GKDiving  GKHandling  GKKicking  GKPositioning GKReflexes Release Clause  \n",
       "0      6.0        11.0       15.0           14.0        8.0        €226.5M  \n",
       "1      7.0        11.0       15.0           14.0       11.0        €127.1M  \n",
       "2      9.0         9.0       15.0           15.0       11.0        €228.1M  \n",
       "3     90.0        85.0       87.0           88.0       94.0        €138.6M  \n",
       "4     15.0        13.0        5.0           10.0       13.0        €196.4M  \n",
       "\n",
       "[5 rows x 89 columns]"
      ]
     },
     "execution_count": 5,
     "metadata": {},
     "output_type": "execute_result"
    }
   ],
   "source": [
    "player_csv.head()"
   ]
  },
  {
   "cell_type": "code",
   "execution_count": 6,
   "metadata": {
    "ExecuteTime": {
     "end_time": "2021-05-03T17:26:01.186704Z",
     "start_time": "2021-05-03T17:26:00.854227Z"
    }
   },
   "outputs": [
    {
     "data": {
      "text/html": [
       "<div>\n",
       "<style scoped>\n",
       "    .dataframe tbody tr th:only-of-type {\n",
       "        vertical-align: middle;\n",
       "    }\n",
       "\n",
       "    .dataframe tbody tr th {\n",
       "        vertical-align: top;\n",
       "    }\n",
       "\n",
       "    .dataframe thead th {\n",
       "        text-align: right;\n",
       "    }\n",
       "</style>\n",
       "<table border=\"1\" class=\"dataframe\">\n",
       "  <thead>\n",
       "    <tr style=\"text-align: right;\">\n",
       "      <th></th>\n",
       "      <th>Name</th>\n",
       "      <th>Photo</th>\n",
       "      <th>Nationality</th>\n",
       "      <th>Flag</th>\n",
       "      <th>Club</th>\n",
       "      <th>Club Logo</th>\n",
       "      <th>Value</th>\n",
       "      <th>Wage</th>\n",
       "      <th>Preferred Foot</th>\n",
       "      <th>Work Rate</th>\n",
       "      <th>...</th>\n",
       "      <th>LDM</th>\n",
       "      <th>CDM</th>\n",
       "      <th>RDM</th>\n",
       "      <th>RWB</th>\n",
       "      <th>LB</th>\n",
       "      <th>LCB</th>\n",
       "      <th>CB</th>\n",
       "      <th>RCB</th>\n",
       "      <th>RB</th>\n",
       "      <th>Release Clause</th>\n",
       "    </tr>\n",
       "  </thead>\n",
       "  <tbody>\n",
       "    <tr>\n",
       "      <th>count</th>\n",
       "      <td>18207</td>\n",
       "      <td>18207</td>\n",
       "      <td>18207</td>\n",
       "      <td>18207</td>\n",
       "      <td>17966</td>\n",
       "      <td>18207</td>\n",
       "      <td>18207</td>\n",
       "      <td>18207</td>\n",
       "      <td>18159</td>\n",
       "      <td>18159</td>\n",
       "      <td>...</td>\n",
       "      <td>16122</td>\n",
       "      <td>16122</td>\n",
       "      <td>16122</td>\n",
       "      <td>16122</td>\n",
       "      <td>16122</td>\n",
       "      <td>16122</td>\n",
       "      <td>16122</td>\n",
       "      <td>16122</td>\n",
       "      <td>16122</td>\n",
       "      <td>16643</td>\n",
       "    </tr>\n",
       "    <tr>\n",
       "      <th>unique</th>\n",
       "      <td>17194</td>\n",
       "      <td>18207</td>\n",
       "      <td>164</td>\n",
       "      <td>164</td>\n",
       "      <td>651</td>\n",
       "      <td>679</td>\n",
       "      <td>217</td>\n",
       "      <td>144</td>\n",
       "      <td>2</td>\n",
       "      <td>9</td>\n",
       "      <td>...</td>\n",
       "      <td>99</td>\n",
       "      <td>99</td>\n",
       "      <td>99</td>\n",
       "      <td>95</td>\n",
       "      <td>98</td>\n",
       "      <td>108</td>\n",
       "      <td>108</td>\n",
       "      <td>108</td>\n",
       "      <td>98</td>\n",
       "      <td>1244</td>\n",
       "    </tr>\n",
       "    <tr>\n",
       "      <th>top</th>\n",
       "      <td>J. Rodríguez</td>\n",
       "      <td>https://cdn.sofifa.org/players/4/19/246085.png</td>\n",
       "      <td>England</td>\n",
       "      <td>https://cdn.sofifa.org/flags/14.png</td>\n",
       "      <td>Southampton</td>\n",
       "      <td>https://cdn.sofifa.org/teams/2/light/111657.png</td>\n",
       "      <td>€1.1M</td>\n",
       "      <td>€1K</td>\n",
       "      <td>Right</td>\n",
       "      <td>Medium/ Medium</td>\n",
       "      <td>...</td>\n",
       "      <td>62+2</td>\n",
       "      <td>62+2</td>\n",
       "      <td>62+2</td>\n",
       "      <td>61+2</td>\n",
       "      <td>61+2</td>\n",
       "      <td>63+2</td>\n",
       "      <td>63+2</td>\n",
       "      <td>63+2</td>\n",
       "      <td>61+2</td>\n",
       "      <td>€1.1M</td>\n",
       "    </tr>\n",
       "    <tr>\n",
       "      <th>freq</th>\n",
       "      <td>11</td>\n",
       "      <td>1</td>\n",
       "      <td>1662</td>\n",
       "      <td>1662</td>\n",
       "      <td>33</td>\n",
       "      <td>33</td>\n",
       "      <td>431</td>\n",
       "      <td>4900</td>\n",
       "      <td>13948</td>\n",
       "      <td>9810</td>\n",
       "      <td>...</td>\n",
       "      <td>660</td>\n",
       "      <td>660</td>\n",
       "      <td>660</td>\n",
       "      <td>713</td>\n",
       "      <td>669</td>\n",
       "      <td>634</td>\n",
       "      <td>634</td>\n",
       "      <td>634</td>\n",
       "      <td>669</td>\n",
       "      <td>557</td>\n",
       "    </tr>\n",
       "  </tbody>\n",
       "</table>\n",
       "<p>4 rows × 45 columns</p>\n",
       "</div>"
      ],
      "text/plain": [
       "                Name                                           Photo  \\\n",
       "count          18207                                           18207   \n",
       "unique         17194                                           18207   \n",
       "top     J. Rodríguez  https://cdn.sofifa.org/players/4/19/246085.png   \n",
       "freq              11                                               1   \n",
       "\n",
       "       Nationality                                 Flag         Club  \\\n",
       "count        18207                                18207        17966   \n",
       "unique         164                                  164          651   \n",
       "top        England  https://cdn.sofifa.org/flags/14.png  Southampton   \n",
       "freq          1662                                 1662           33   \n",
       "\n",
       "                                              Club Logo  Value   Wage  \\\n",
       "count                                             18207  18207  18207   \n",
       "unique                                              679    217    144   \n",
       "top     https://cdn.sofifa.org/teams/2/light/111657.png  €1.1M    €1K   \n",
       "freq                                                 33    431   4900   \n",
       "\n",
       "       Preferred Foot       Work Rate  ...    LDM    CDM    RDM    RWB     LB  \\\n",
       "count           18159           18159  ...  16122  16122  16122  16122  16122   \n",
       "unique              2               9  ...     99     99     99     95     98   \n",
       "top             Right  Medium/ Medium  ...   62+2   62+2   62+2   61+2   61+2   \n",
       "freq            13948            9810  ...    660    660    660    713    669   \n",
       "\n",
       "          LCB     CB    RCB     RB Release Clause  \n",
       "count   16122  16122  16122  16122          16643  \n",
       "unique    108    108    108     98           1244  \n",
       "top      63+2   63+2   63+2   61+2          €1.1M  \n",
       "freq      634    634    634    669            557  \n",
       "\n",
       "[4 rows x 45 columns]"
      ]
     },
     "execution_count": 6,
     "metadata": {},
     "output_type": "execute_result"
    }
   ],
   "source": [
    "player_csv.describe(include=np.object)"
   ]
  },
  {
   "cell_type": "code",
   "execution_count": 7,
   "metadata": {
    "ExecuteTime": {
     "end_time": "2021-05-03T17:26:01.196606Z",
     "start_time": "2021-05-03T17:26:01.190304Z"
    }
   },
   "outputs": [
    {
     "data": {
      "text/plain": [
       "str"
      ]
     },
     "execution_count": 7,
     "metadata": {},
     "output_type": "execute_result"
    }
   ],
   "source": [
    "type(player_csv['Release Clause'][0])"
   ]
  },
  {
   "cell_type": "markdown",
   "metadata": {},
   "source": [
    "il est possible de merge player_csv avec player grace aux attribues player_csv.id et player.player_fifa_api_id"
   ]
  },
  {
   "cell_type": "markdown",
   "metadata": {},
   "source": [
    "# drop columns"
   ]
  },
  {
   "cell_type": "code",
   "execution_count": 8,
   "metadata": {
    "ExecuteTime": {
     "end_time": "2021-05-03T17:26:01.210824Z",
     "start_time": "2021-05-03T17:26:01.200145Z"
    }
   },
   "outputs": [],
   "source": [
    "player_csv.drop(columns=['Photo','Flag','Club Logo','Jersey Number','Real Face'],inplace=True)"
   ]
  },
  {
   "cell_type": "markdown",
   "metadata": {},
   "source": [
    "# cleaning data"
   ]
  },
  {
   "cell_type": "markdown",
   "metadata": {},
   "source": [
    "récupérer le club fifa api id en faisant un jointure entre player_csv et player "
   ]
  },
  {
   "cell_type": "code",
   "execution_count": 9,
   "metadata": {
    "ExecuteTime": {
     "end_time": "2021-05-03T17:26:01.224359Z",
     "start_time": "2021-05-03T17:26:01.213089Z"
    }
   },
   "outputs": [],
   "source": [
    "player_csv['Release Clause'] = player_csv['Release Clause'].fillna(0)\n",
    "player_csv['Value']  = player_csv['Value'].fillna(0)\n",
    "player_csv['Wage'] = player_csv['Wage'].fillna(0)"
   ]
  },
  {
   "cell_type": "code",
   "execution_count": 10,
   "metadata": {
    "ExecuteTime": {
     "end_time": "2021-05-03T17:26:01.245610Z",
     "start_time": "2021-05-03T17:26:01.226350Z"
    }
   },
   "outputs": [],
   "source": [
    "\n",
    "# certaines colones sont au format string et d'autres sont au format float \n",
    "player_csv['Release Clause'] = player_csv['Release Clause'].astype(str)\n",
    "player_csv['Value'] = player_csv['Value'].astype(str)\n",
    "player_csv['Wage'] = player_csv['Wage'].astype(str)\n"
   ]
  },
  {
   "cell_type": "code",
   "execution_count": 11,
   "metadata": {
    "ExecuteTime": {
     "end_time": "2021-05-03T17:26:01.311572Z",
     "start_time": "2021-05-03T17:26:01.248936Z"
    }
   },
   "outputs": [],
   "source": [
    "player_csv['Release Clause format'] = player_csv['Release Clause'].apply(lambda x: ''.join([i for i in x if not i.isdigit()]))\n",
    "player_csv['Value format'] = player_csv['Value'].apply(lambda x: ''.join([i for i in x if not i.isdigit()]))\n",
    "player_csv['Wage format'] = player_csv['Wage'].apply(lambda x: ''.join([i for i in x if not i.isdigit()]))"
   ]
  },
  {
   "cell_type": "code",
   "execution_count": 12,
   "metadata": {
    "ExecuteTime": {
     "end_time": "2021-05-03T17:26:01.321679Z",
     "start_time": "2021-05-03T17:26:01.313232Z"
    }
   },
   "outputs": [
    {
     "data": {
      "text/plain": [
       "array(['€.M', '€M', '', '€K'], dtype=object)"
      ]
     },
     "execution_count": 12,
     "metadata": {},
     "output_type": "execute_result"
    }
   ],
   "source": [
    "player_csv['Release Clause format'].unique()"
   ]
  },
  {
   "cell_type": "code",
   "execution_count": 13,
   "metadata": {
    "ExecuteTime": {
     "end_time": "2021-05-03T17:26:01.331552Z",
     "start_time": "2021-05-03T17:26:01.323220Z"
    }
   },
   "outputs": [
    {
     "data": {
      "text/plain": [
       "array(['€.M', '€M', '€', '€K'], dtype=object)"
      ]
     },
     "execution_count": 13,
     "metadata": {},
     "output_type": "execute_result"
    }
   ],
   "source": [
    "player_csv['Value format'].unique()"
   ]
  },
  {
   "cell_type": "code",
   "execution_count": 14,
   "metadata": {
    "ExecuteTime": {
     "end_time": "2021-05-03T17:26:01.343501Z",
     "start_time": "2021-05-03T17:26:01.333775Z"
    }
   },
   "outputs": [
    {
     "data": {
      "text/plain": [
       "array(['€K', '€'], dtype=object)"
      ]
     },
     "execution_count": 14,
     "metadata": {},
     "output_type": "execute_result"
    }
   ],
   "source": [
    "player_csv['Wage format'].unique()"
   ]
  },
  {
   "cell_type": "code",
   "execution_count": 15,
   "metadata": {
    "ExecuteTime": {
     "end_time": "2021-05-03T17:26:01.355516Z",
     "start_time": "2021-05-03T17:26:01.345547Z"
    }
   },
   "outputs": [],
   "source": [
    "def format_money(x):\n",
    "    if((len(re.findall('\\d+.\\d+',str(x)))==0)and(len(re.findall('\\d+',str(x)))==0)):\n",
    "        return x\n",
    "    frm = ''.join([i for i in x if not i.isdigit()])\n",
    "    if (len(re.findall('\\d+.\\d+',str(x)))==0):\n",
    "        val = float(re.findall('\\d+',str(x))[0])\n",
    "    else :\n",
    "        val = float(re.findall('\\d+.\\d+',str(x))[0])\n",
    "        \n",
    "    if ((frm == \"€.M\") or (frm == \"€M\")):\n",
    "        return val * 1000000\n",
    "    elif (frm == \"€K\") :\n",
    "        return val * 1000\n",
    "    else :\n",
    "        return val\n",
    "        "
   ]
  },
  {
   "cell_type": "markdown",
   "metadata": {},
   "source": [
    "reformater le format de la collone en float"
   ]
  },
  {
   "cell_type": "code",
   "execution_count": 16,
   "metadata": {
    "ExecuteTime": {
     "end_time": "2021-05-03T17:26:01.804849Z",
     "start_time": "2021-05-03T17:26:01.357223Z"
    },
    "tags": []
   },
   "outputs": [],
   "source": [
    "player_csv['Release Clause'] = player_csv['Release Clause'].apply(lambda x: format_money(x) if len(x) != 0 else x)\n",
    "player_csv['Value'] = player_csv['Value'].apply(lambda x: format_money(x) if len(x) != 0 else x )\n",
    "player_csv['Wage'] = player_csv['Wage'].apply(lambda x: format_money(x) if len(x) != 0 else x )"
   ]
  },
  {
   "cell_type": "code",
   "execution_count": 17,
   "metadata": {
    "ExecuteTime": {
     "end_time": "2021-05-03T17:26:01.812201Z",
     "start_time": "2021-05-03T17:26:01.806328Z"
    }
   },
   "outputs": [
    {
     "data": {
      "text/plain": [
       "3000000.0"
      ]
     },
     "execution_count": 17,
     "metadata": {},
     "output_type": "execute_result"
    }
   ],
   "source": [
    "player_csv['Release Clause'][318]"
   ]
  },
  {
   "cell_type": "code",
   "execution_count": 18,
   "metadata": {
    "ExecuteTime": {
     "end_time": "2021-05-03T17:26:01.819717Z",
     "start_time": "2021-05-03T17:26:01.814321Z"
    }
   },
   "outputs": [],
   "source": [
    "player_csv['Release Clause'] = pd.to_numeric(player_csv['Release Clause'])\n",
    "player_csv['Value'] = pd.to_numeric(player_csv['Value'])\n",
    "player_csv['Wage'] = pd.to_numeric(player_csv['Wage'])"
   ]
  },
  {
   "cell_type": "markdown",
   "metadata": {},
   "source": [
    "simplifier le systéme de position"
   ]
  },
  {
   "cell_type": "code",
   "execution_count": 19,
   "metadata": {
    "ExecuteTime": {
     "end_time": "2021-05-03T17:26:01.828478Z",
     "start_time": "2021-05-03T17:26:01.824087Z"
    }
   },
   "outputs": [],
   "source": [
    "defending_position = ['RWB','LWB','RB','LB','CB','LCB','RCB']\n",
    "midefield_position = ['RCM','LCM','LDM','CAM','RM','LAM','LM','RDM','RAM','CDM','CM']\n",
    "attaking_position = ['CF','RF','LF','RS','LS','RW','LW','ST']"
   ]
  },
  {
   "cell_type": "code",
   "execution_count": 20,
   "metadata": {
    "ExecuteTime": {
     "end_time": "2021-05-03T17:26:01.836944Z",
     "start_time": "2021-05-03T17:26:01.830991Z"
    }
   },
   "outputs": [],
   "source": [
    "def get_position(x):\n",
    "    if (x in defending_position) :\n",
    "        return 'defense'\n",
    "    elif (x in midefield_position):\n",
    "        return 'midle'\n",
    "    elif (x in attaking_position) :\n",
    "        return 'attak'\n",
    "    elif (x == 'GK'):\n",
    "        return 'goalkeeper'\n",
    "    else :\n",
    "        return x"
   ]
  },
  {
   "cell_type": "code",
   "execution_count": 21,
   "metadata": {
    "ExecuteTime": {
     "end_time": "2021-05-03T17:26:01.856921Z",
     "start_time": "2021-05-03T17:26:01.838874Z"
    }
   },
   "outputs": [],
   "source": [
    "player_csv['Position_simp'] = player_csv['Position'].apply(lambda x: get_position(x))"
   ]
  },
  {
   "cell_type": "code",
   "execution_count": 22,
   "metadata": {
    "ExecuteTime": {
     "end_time": "2021-05-03T17:26:01.865596Z",
     "start_time": "2021-05-03T17:26:01.860065Z"
    }
   },
   "outputs": [
    {
     "data": {
      "text/plain": [
       "array(['attak', 'goalkeeper', 'midle', 'defense', nan], dtype=object)"
      ]
     },
     "execution_count": 22,
     "metadata": {},
     "output_type": "execute_result"
    }
   ],
   "source": [
    "player_csv['Position_simp'].unique()"
   ]
  },
  {
   "cell_type": "markdown",
   "metadata": {},
   "source": [
    "remplacer les valeurs Nan par 0"
   ]
  },
  {
   "cell_type": "markdown",
   "metadata": {},
   "source": [
    "# explore data"
   ]
  },
  {
   "cell_type": "code",
   "execution_count": 23,
   "metadata": {
    "ExecuteTime": {
     "end_time": "2021-05-03T17:26:01.904124Z",
     "start_time": "2021-05-03T17:26:01.867221Z"
    }
   },
   "outputs": [],
   "source": [
    "clubs_players_relaise_clause = player_csv[['Club','Release Clause']].groupby('Club').sum()\n",
    "clubs_players_value = player_csv[['Club','Value']].groupby('Club').sum()\n",
    "clubs_players_wage = player_csv[['Club','Wage']].groupby('Club').sum()"
   ]
  },
  {
   "cell_type": "code",
   "execution_count": 24,
   "metadata": {
    "ExecuteTime": {
     "end_time": "2021-05-03T17:26:01.918460Z",
     "start_time": "2021-05-03T17:26:01.905782Z"
    }
   },
   "outputs": [
    {
     "data": {
      "text/html": [
       "<div>\n",
       "<style scoped>\n",
       "    .dataframe tbody tr th:only-of-type {\n",
       "        vertical-align: middle;\n",
       "    }\n",
       "\n",
       "    .dataframe tbody tr th {\n",
       "        vertical-align: top;\n",
       "    }\n",
       "\n",
       "    .dataframe thead th {\n",
       "        text-align: right;\n",
       "    }\n",
       "</style>\n",
       "<table border=\"1\" class=\"dataframe\">\n",
       "  <thead>\n",
       "    <tr style=\"text-align: right;\">\n",
       "      <th></th>\n",
       "      <th>Wage</th>\n",
       "    </tr>\n",
       "    <tr>\n",
       "      <th>Club</th>\n",
       "      <th></th>\n",
       "    </tr>\n",
       "  </thead>\n",
       "  <tbody>\n",
       "    <tr>\n",
       "      <th>Real Madrid</th>\n",
       "      <td>5017000.0</td>\n",
       "    </tr>\n",
       "    <tr>\n",
       "      <th>FC Barcelona</th>\n",
       "      <td>4837000.0</td>\n",
       "    </tr>\n",
       "    <tr>\n",
       "      <th>Manchester City</th>\n",
       "      <td>3741000.0</td>\n",
       "    </tr>\n",
       "    <tr>\n",
       "      <th>Manchester United</th>\n",
       "      <td>3391000.0</td>\n",
       "    </tr>\n",
       "    <tr>\n",
       "      <th>Juventus</th>\n",
       "      <td>3292000.0</td>\n",
       "    </tr>\n",
       "    <tr>\n",
       "      <th>Chelsea</th>\n",
       "      <td>3249000.0</td>\n",
       "    </tr>\n",
       "    <tr>\n",
       "      <th>Liverpool</th>\n",
       "      <td>2902000.0</td>\n",
       "    </tr>\n",
       "    <tr>\n",
       "      <th>Tottenham Hotspur</th>\n",
       "      <td>2623000.0</td>\n",
       "    </tr>\n",
       "    <tr>\n",
       "      <th>Arsenal</th>\n",
       "      <td>2588000.0</td>\n",
       "    </tr>\n",
       "    <tr>\n",
       "      <th>FC Bayern München</th>\n",
       "      <td>2286000.0</td>\n",
       "    </tr>\n",
       "  </tbody>\n",
       "</table>\n",
       "</div>"
      ],
      "text/plain": [
       "                        Wage\n",
       "Club                        \n",
       "Real Madrid        5017000.0\n",
       "FC Barcelona       4837000.0\n",
       "Manchester City    3741000.0\n",
       "Manchester United  3391000.0\n",
       "Juventus           3292000.0\n",
       "Chelsea            3249000.0\n",
       "Liverpool          2902000.0\n",
       "Tottenham Hotspur  2623000.0\n",
       "Arsenal            2588000.0\n",
       "FC Bayern München  2286000.0"
      ]
     },
     "execution_count": 24,
     "metadata": {},
     "output_type": "execute_result"
    }
   ],
   "source": [
    "clubs_players_wage.sort_values(by='Wage',ascending=False).head(10)"
   ]
  },
  {
   "cell_type": "code",
   "execution_count": 25,
   "metadata": {
    "ExecuteTime": {
     "end_time": "2021-05-03T17:26:01.932142Z",
     "start_time": "2021-05-03T17:26:01.922543Z"
    }
   },
   "outputs": [
    {
     "data": {
      "text/html": [
       "<div>\n",
       "<style scoped>\n",
       "    .dataframe tbody tr th:only-of-type {\n",
       "        vertical-align: middle;\n",
       "    }\n",
       "\n",
       "    .dataframe tbody tr th {\n",
       "        vertical-align: top;\n",
       "    }\n",
       "\n",
       "    .dataframe thead th {\n",
       "        text-align: right;\n",
       "    }\n",
       "</style>\n",
       "<table border=\"1\" class=\"dataframe\">\n",
       "  <thead>\n",
       "    <tr style=\"text-align: right;\">\n",
       "      <th></th>\n",
       "      <th>Value</th>\n",
       "    </tr>\n",
       "    <tr>\n",
       "      <th>Club</th>\n",
       "      <th></th>\n",
       "    </tr>\n",
       "  </thead>\n",
       "  <tbody>\n",
       "    <tr>\n",
       "      <th>Real Madrid</th>\n",
       "      <td>874425000.0</td>\n",
       "    </tr>\n",
       "    <tr>\n",
       "      <th>FC Barcelona</th>\n",
       "      <td>852600000.0</td>\n",
       "    </tr>\n",
       "    <tr>\n",
       "      <th>Manchester City</th>\n",
       "      <td>786555000.0</td>\n",
       "    </tr>\n",
       "    <tr>\n",
       "      <th>Juventus</th>\n",
       "      <td>704475000.0</td>\n",
       "    </tr>\n",
       "    <tr>\n",
       "      <th>FC Bayern München</th>\n",
       "      <td>679025000.0</td>\n",
       "    </tr>\n",
       "    <tr>\n",
       "      <th>Atlético Madrid</th>\n",
       "      <td>644525000.0</td>\n",
       "    </tr>\n",
       "    <tr>\n",
       "      <th>Paris Saint-Germain</th>\n",
       "      <td>625325000.0</td>\n",
       "    </tr>\n",
       "    <tr>\n",
       "      <th>Tottenham Hotspur</th>\n",
       "      <td>618450000.0</td>\n",
       "    </tr>\n",
       "    <tr>\n",
       "      <th>Chelsea</th>\n",
       "      <td>606815000.0</td>\n",
       "    </tr>\n",
       "    <tr>\n",
       "      <th>Manchester United</th>\n",
       "      <td>588850000.0</td>\n",
       "    </tr>\n",
       "  </tbody>\n",
       "</table>\n",
       "</div>"
      ],
      "text/plain": [
       "                           Value\n",
       "Club                            \n",
       "Real Madrid          874425000.0\n",
       "FC Barcelona         852600000.0\n",
       "Manchester City      786555000.0\n",
       "Juventus             704475000.0\n",
       "FC Bayern München    679025000.0\n",
       "Atlético Madrid      644525000.0\n",
       "Paris Saint-Germain  625325000.0\n",
       "Tottenham Hotspur    618450000.0\n",
       "Chelsea              606815000.0\n",
       "Manchester United    588850000.0"
      ]
     },
     "execution_count": 25,
     "metadata": {},
     "output_type": "execute_result"
    }
   ],
   "source": [
    "clubs_players_value.sort_values(by='Value',ascending=False).head(10)"
   ]
  },
  {
   "cell_type": "code",
   "execution_count": 26,
   "metadata": {
    "ExecuteTime": {
     "end_time": "2021-05-03T17:26:01.945141Z",
     "start_time": "2021-05-03T17:26:01.933863Z"
    }
   },
   "outputs": [
    {
     "data": {
      "text/html": [
       "<div>\n",
       "<style scoped>\n",
       "    .dataframe tbody tr th:only-of-type {\n",
       "        vertical-align: middle;\n",
       "    }\n",
       "\n",
       "    .dataframe tbody tr th {\n",
       "        vertical-align: top;\n",
       "    }\n",
       "\n",
       "    .dataframe thead th {\n",
       "        text-align: right;\n",
       "    }\n",
       "</style>\n",
       "<table border=\"1\" class=\"dataframe\">\n",
       "  <thead>\n",
       "    <tr style=\"text-align: right;\">\n",
       "      <th></th>\n",
       "      <th>Release Clause</th>\n",
       "    </tr>\n",
       "    <tr>\n",
       "      <th>Club</th>\n",
       "      <th></th>\n",
       "    </tr>\n",
       "  </thead>\n",
       "  <tbody>\n",
       "    <tr>\n",
       "      <th>Real Madrid</th>\n",
       "      <td>1.857688e+09</td>\n",
       "    </tr>\n",
       "    <tr>\n",
       "      <th>FC Barcelona</th>\n",
       "      <td>1.813000e+09</td>\n",
       "    </tr>\n",
       "    <tr>\n",
       "      <th>Manchester City</th>\n",
       "      <td>1.512907e+09</td>\n",
       "    </tr>\n",
       "    <tr>\n",
       "      <th>Atlético Madrid</th>\n",
       "      <td>1.375649e+09</td>\n",
       "    </tr>\n",
       "    <tr>\n",
       "      <th>Paris Saint-Germain</th>\n",
       "      <td>1.216266e+09</td>\n",
       "    </tr>\n",
       "    <tr>\n",
       "      <th>...</th>\n",
       "      <td>...</td>\n",
       "    </tr>\n",
       "    <tr>\n",
       "      <th>Bohemian FC</th>\n",
       "      <td>5.633000e+06</td>\n",
       "    </tr>\n",
       "    <tr>\n",
       "      <th>Sangju Sangmu FC</th>\n",
       "      <td>5.171000e+06</td>\n",
       "    </tr>\n",
       "    <tr>\n",
       "      <th>Derry City</th>\n",
       "      <td>4.703000e+06</td>\n",
       "    </tr>\n",
       "    <tr>\n",
       "      <th>Bray Wanderers</th>\n",
       "      <td>3.488000e+06</td>\n",
       "    </tr>\n",
       "    <tr>\n",
       "      <th>Limerick FC</th>\n",
       "      <td>3.438000e+06</td>\n",
       "    </tr>\n",
       "  </tbody>\n",
       "</table>\n",
       "<p>651 rows × 1 columns</p>\n",
       "</div>"
      ],
      "text/plain": [
       "                     Release Clause\n",
       "Club                               \n",
       "Real Madrid            1.857688e+09\n",
       "FC Barcelona           1.813000e+09\n",
       "Manchester City        1.512907e+09\n",
       "Atlético Madrid        1.375649e+09\n",
       "Paris Saint-Germain    1.216266e+09\n",
       "...                             ...\n",
       "Bohemian FC            5.633000e+06\n",
       "Sangju Sangmu FC       5.171000e+06\n",
       "Derry City             4.703000e+06\n",
       "Bray Wanderers         3.488000e+06\n",
       "Limerick FC            3.438000e+06\n",
       "\n",
       "[651 rows x 1 columns]"
      ]
     },
     "execution_count": 26,
     "metadata": {},
     "output_type": "execute_result"
    }
   ],
   "source": [
    "clubs_players_relaise_clause.sort_values(by=\"Release Clause\",ascending=False)"
   ]
  },
  {
   "cell_type": "code",
   "execution_count": 27,
   "metadata": {
    "ExecuteTime": {
     "end_time": "2021-05-03T17:26:02.007919Z",
     "start_time": "2021-05-03T17:26:01.946906Z"
    }
   },
   "outputs": [
    {
     "data": {
      "text/html": [
       "<div>\n",
       "<style scoped>\n",
       "    .dataframe tbody tr th:only-of-type {\n",
       "        vertical-align: middle;\n",
       "    }\n",
       "\n",
       "    .dataframe tbody tr th {\n",
       "        vertical-align: top;\n",
       "    }\n",
       "\n",
       "    .dataframe thead th {\n",
       "        text-align: right;\n",
       "    }\n",
       "</style>\n",
       "<table border=\"1\" class=\"dataframe\">\n",
       "  <thead>\n",
       "    <tr style=\"text-align: right;\">\n",
       "      <th></th>\n",
       "      <th>Unnamed: 0</th>\n",
       "      <th>ID</th>\n",
       "      <th>Name</th>\n",
       "      <th>Age</th>\n",
       "      <th>Nationality</th>\n",
       "      <th>Overall</th>\n",
       "      <th>Potential</th>\n",
       "      <th>Club</th>\n",
       "      <th>Value</th>\n",
       "      <th>Wage</th>\n",
       "      <th>...</th>\n",
       "      <th>GKDiving</th>\n",
       "      <th>GKHandling</th>\n",
       "      <th>GKKicking</th>\n",
       "      <th>GKPositioning</th>\n",
       "      <th>GKReflexes</th>\n",
       "      <th>Release Clause</th>\n",
       "      <th>Release Clause format</th>\n",
       "      <th>Value format</th>\n",
       "      <th>Wage format</th>\n",
       "      <th>Position_simp</th>\n",
       "    </tr>\n",
       "  </thead>\n",
       "  <tbody>\n",
       "    <tr>\n",
       "      <th>2</th>\n",
       "      <td>2</td>\n",
       "      <td>190871</td>\n",
       "      <td>Neymar Jr</td>\n",
       "      <td>26</td>\n",
       "      <td>Brazil</td>\n",
       "      <td>92</td>\n",
       "      <td>93</td>\n",
       "      <td>Paris Saint-Germain</td>\n",
       "      <td>118500000.0</td>\n",
       "      <td>290000.0</td>\n",
       "      <td>...</td>\n",
       "      <td>9.0</td>\n",
       "      <td>9.0</td>\n",
       "      <td>15.0</td>\n",
       "      <td>15.0</td>\n",
       "      <td>11.0</td>\n",
       "      <td>228100000.0</td>\n",
       "      <td>€.M</td>\n",
       "      <td>€.M</td>\n",
       "      <td>€K</td>\n",
       "      <td>attak</td>\n",
       "    </tr>\n",
       "    <tr>\n",
       "      <th>0</th>\n",
       "      <td>0</td>\n",
       "      <td>158023</td>\n",
       "      <td>L. Messi</td>\n",
       "      <td>31</td>\n",
       "      <td>Argentina</td>\n",
       "      <td>94</td>\n",
       "      <td>94</td>\n",
       "      <td>FC Barcelona</td>\n",
       "      <td>110500000.0</td>\n",
       "      <td>565000.0</td>\n",
       "      <td>...</td>\n",
       "      <td>6.0</td>\n",
       "      <td>11.0</td>\n",
       "      <td>15.0</td>\n",
       "      <td>14.0</td>\n",
       "      <td>8.0</td>\n",
       "      <td>226500000.0</td>\n",
       "      <td>€.M</td>\n",
       "      <td>€.M</td>\n",
       "      <td>€K</td>\n",
       "      <td>attak</td>\n",
       "    </tr>\n",
       "    <tr>\n",
       "      <th>4</th>\n",
       "      <td>4</td>\n",
       "      <td>192985</td>\n",
       "      <td>K. De Bruyne</td>\n",
       "      <td>27</td>\n",
       "      <td>Belgium</td>\n",
       "      <td>91</td>\n",
       "      <td>92</td>\n",
       "      <td>Manchester City</td>\n",
       "      <td>102000000.0</td>\n",
       "      <td>355000.0</td>\n",
       "      <td>...</td>\n",
       "      <td>15.0</td>\n",
       "      <td>13.0</td>\n",
       "      <td>5.0</td>\n",
       "      <td>10.0</td>\n",
       "      <td>13.0</td>\n",
       "      <td>196400000.0</td>\n",
       "      <td>€.M</td>\n",
       "      <td>€M</td>\n",
       "      <td>€K</td>\n",
       "      <td>midle</td>\n",
       "    </tr>\n",
       "    <tr>\n",
       "      <th>5</th>\n",
       "      <td>5</td>\n",
       "      <td>183277</td>\n",
       "      <td>E. Hazard</td>\n",
       "      <td>27</td>\n",
       "      <td>Belgium</td>\n",
       "      <td>91</td>\n",
       "      <td>91</td>\n",
       "      <td>Chelsea</td>\n",
       "      <td>93000000.0</td>\n",
       "      <td>340000.0</td>\n",
       "      <td>...</td>\n",
       "      <td>11.0</td>\n",
       "      <td>12.0</td>\n",
       "      <td>6.0</td>\n",
       "      <td>8.0</td>\n",
       "      <td>8.0</td>\n",
       "      <td>172100000.0</td>\n",
       "      <td>€.M</td>\n",
       "      <td>€M</td>\n",
       "      <td>€K</td>\n",
       "      <td>attak</td>\n",
       "    </tr>\n",
       "    <tr>\n",
       "      <th>15</th>\n",
       "      <td>15</td>\n",
       "      <td>211110</td>\n",
       "      <td>P. Dybala</td>\n",
       "      <td>24</td>\n",
       "      <td>Argentina</td>\n",
       "      <td>89</td>\n",
       "      <td>94</td>\n",
       "      <td>Juventus</td>\n",
       "      <td>89000000.0</td>\n",
       "      <td>205000.0</td>\n",
       "      <td>...</td>\n",
       "      <td>5.0</td>\n",
       "      <td>4.0</td>\n",
       "      <td>4.0</td>\n",
       "      <td>5.0</td>\n",
       "      <td>8.0</td>\n",
       "      <td>153500000.0</td>\n",
       "      <td>€.M</td>\n",
       "      <td>€M</td>\n",
       "      <td>€K</td>\n",
       "      <td>attak</td>\n",
       "    </tr>\n",
       "    <tr>\n",
       "      <th>...</th>\n",
       "      <td>...</td>\n",
       "      <td>...</td>\n",
       "      <td>...</td>\n",
       "      <td>...</td>\n",
       "      <td>...</td>\n",
       "      <td>...</td>\n",
       "      <td>...</td>\n",
       "      <td>...</td>\n",
       "      <td>...</td>\n",
       "      <td>...</td>\n",
       "      <td>...</td>\n",
       "      <td>...</td>\n",
       "      <td>...</td>\n",
       "      <td>...</td>\n",
       "      <td>...</td>\n",
       "      <td>...</td>\n",
       "      <td>...</td>\n",
       "      <td>...</td>\n",
       "      <td>...</td>\n",
       "      <td>...</td>\n",
       "      <td>...</td>\n",
       "    </tr>\n",
       "    <tr>\n",
       "      <th>4298</th>\n",
       "      <td>4298</td>\n",
       "      <td>225900</td>\n",
       "      <td>J. Sambenito</td>\n",
       "      <td>26</td>\n",
       "      <td>Paraguay</td>\n",
       "      <td>71</td>\n",
       "      <td>74</td>\n",
       "      <td>NaN</td>\n",
       "      <td>0.0</td>\n",
       "      <td>0.0</td>\n",
       "      <td>...</td>\n",
       "      <td>15.0</td>\n",
       "      <td>16.0</td>\n",
       "      <td>15.0</td>\n",
       "      <td>7.0</td>\n",
       "      <td>7.0</td>\n",
       "      <td>0.0</td>\n",
       "      <td></td>\n",
       "      <td>€</td>\n",
       "      <td>€</td>\n",
       "      <td>attak</td>\n",
       "    </tr>\n",
       "    <tr>\n",
       "      <th>8605</th>\n",
       "      <td>8605</td>\n",
       "      <td>190939</td>\n",
       "      <td>S. Chhetri</td>\n",
       "      <td>33</td>\n",
       "      <td>India</td>\n",
       "      <td>67</td>\n",
       "      <td>67</td>\n",
       "      <td>NaN</td>\n",
       "      <td>0.0</td>\n",
       "      <td>0.0</td>\n",
       "      <td>...</td>\n",
       "      <td>10.0</td>\n",
       "      <td>7.0</td>\n",
       "      <td>11.0</td>\n",
       "      <td>9.0</td>\n",
       "      <td>10.0</td>\n",
       "      <td>0.0</td>\n",
       "      <td></td>\n",
       "      <td>€</td>\n",
       "      <td>€</td>\n",
       "      <td>attak</td>\n",
       "    </tr>\n",
       "    <tr>\n",
       "      <th>4274</th>\n",
       "      <td>4274</td>\n",
       "      <td>201572</td>\n",
       "      <td>M. Korhut</td>\n",
       "      <td>29</td>\n",
       "      <td>Hungary</td>\n",
       "      <td>71</td>\n",
       "      <td>71</td>\n",
       "      <td>NaN</td>\n",
       "      <td>0.0</td>\n",
       "      <td>0.0</td>\n",
       "      <td>...</td>\n",
       "      <td>14.0</td>\n",
       "      <td>15.0</td>\n",
       "      <td>7.0</td>\n",
       "      <td>11.0</td>\n",
       "      <td>12.0</td>\n",
       "      <td>0.0</td>\n",
       "      <td></td>\n",
       "      <td>€</td>\n",
       "      <td>€</td>\n",
       "      <td>defense</td>\n",
       "    </tr>\n",
       "    <tr>\n",
       "      <th>4257</th>\n",
       "      <td>4257</td>\n",
       "      <td>225884</td>\n",
       "      <td>J. Riojas</td>\n",
       "      <td>30</td>\n",
       "      <td>Paraguay</td>\n",
       "      <td>71</td>\n",
       "      <td>71</td>\n",
       "      <td>NaN</td>\n",
       "      <td>0.0</td>\n",
       "      <td>0.0</td>\n",
       "      <td>...</td>\n",
       "      <td>13.0</td>\n",
       "      <td>13.0</td>\n",
       "      <td>11.0</td>\n",
       "      <td>10.0</td>\n",
       "      <td>16.0</td>\n",
       "      <td>0.0</td>\n",
       "      <td></td>\n",
       "      <td>€</td>\n",
       "      <td>€</td>\n",
       "      <td>midle</td>\n",
       "    </tr>\n",
       "    <tr>\n",
       "      <th>7535</th>\n",
       "      <td>7535</td>\n",
       "      <td>241381</td>\n",
       "      <td>M. Madisha</td>\n",
       "      <td>23</td>\n",
       "      <td>South Africa</td>\n",
       "      <td>68</td>\n",
       "      <td>76</td>\n",
       "      <td>NaN</td>\n",
       "      <td>0.0</td>\n",
       "      <td>0.0</td>\n",
       "      <td>...</td>\n",
       "      <td>14.0</td>\n",
       "      <td>11.0</td>\n",
       "      <td>8.0</td>\n",
       "      <td>15.0</td>\n",
       "      <td>9.0</td>\n",
       "      <td>0.0</td>\n",
       "      <td></td>\n",
       "      <td>€</td>\n",
       "      <td>€</td>\n",
       "      <td>defense</td>\n",
       "    </tr>\n",
       "  </tbody>\n",
       "</table>\n",
       "<p>18207 rows × 88 columns</p>\n",
       "</div>"
      ],
      "text/plain": [
       "      Unnamed: 0      ID          Name  Age   Nationality  Overall  Potential  \\\n",
       "2              2  190871     Neymar Jr   26        Brazil       92         93   \n",
       "0              0  158023      L. Messi   31     Argentina       94         94   \n",
       "4              4  192985  K. De Bruyne   27       Belgium       91         92   \n",
       "5              5  183277     E. Hazard   27       Belgium       91         91   \n",
       "15            15  211110     P. Dybala   24     Argentina       89         94   \n",
       "...          ...     ...           ...  ...           ...      ...        ...   \n",
       "4298        4298  225900  J. Sambenito   26      Paraguay       71         74   \n",
       "8605        8605  190939    S. Chhetri   33         India       67         67   \n",
       "4274        4274  201572     M. Korhut   29       Hungary       71         71   \n",
       "4257        4257  225884     J. Riojas   30      Paraguay       71         71   \n",
       "7535        7535  241381    M. Madisha   23  South Africa       68         76   \n",
       "\n",
       "                     Club        Value      Wage  ...  GKDiving GKHandling  \\\n",
       "2     Paris Saint-Germain  118500000.0  290000.0  ...       9.0        9.0   \n",
       "0            FC Barcelona  110500000.0  565000.0  ...       6.0       11.0   \n",
       "4         Manchester City  102000000.0  355000.0  ...      15.0       13.0   \n",
       "5                 Chelsea   93000000.0  340000.0  ...      11.0       12.0   \n",
       "15               Juventus   89000000.0  205000.0  ...       5.0        4.0   \n",
       "...                   ...          ...       ...  ...       ...        ...   \n",
       "4298                  NaN          0.0       0.0  ...      15.0       16.0   \n",
       "8605                  NaN          0.0       0.0  ...      10.0        7.0   \n",
       "4274                  NaN          0.0       0.0  ...      14.0       15.0   \n",
       "4257                  NaN          0.0       0.0  ...      13.0       13.0   \n",
       "7535                  NaN          0.0       0.0  ...      14.0       11.0   \n",
       "\n",
       "      GKKicking  GKPositioning  GKReflexes Release Clause  \\\n",
       "2          15.0           15.0        11.0    228100000.0   \n",
       "0          15.0           14.0         8.0    226500000.0   \n",
       "4           5.0           10.0        13.0    196400000.0   \n",
       "5           6.0            8.0         8.0    172100000.0   \n",
       "15          4.0            5.0         8.0    153500000.0   \n",
       "...         ...            ...         ...            ...   \n",
       "4298       15.0            7.0         7.0            0.0   \n",
       "8605       11.0            9.0        10.0            0.0   \n",
       "4274        7.0           11.0        12.0            0.0   \n",
       "4257       11.0           10.0        16.0            0.0   \n",
       "7535        8.0           15.0         9.0            0.0   \n",
       "\n",
       "     Release Clause format Value format Wage format Position_simp  \n",
       "2                      €.M          €.M          €K         attak  \n",
       "0                      €.M          €.M          €K         attak  \n",
       "4                      €.M           €M          €K         midle  \n",
       "5                      €.M           €M          €K         attak  \n",
       "15                     €.M           €M          €K         attak  \n",
       "...                    ...          ...         ...           ...  \n",
       "4298                                  €           €         attak  \n",
       "8605                                  €           €         attak  \n",
       "4274                                  €           €       defense  \n",
       "4257                                  €           €         midle  \n",
       "7535                                  €           €       defense  \n",
       "\n",
       "[18207 rows x 88 columns]"
      ]
     },
     "execution_count": 27,
     "metadata": {},
     "output_type": "execute_result"
    }
   ],
   "source": [
    "player_csv.sort_values(by = \"Value\",ascending=False)"
   ]
  },
  {
   "cell_type": "code",
   "execution_count": 28,
   "metadata": {
    "ExecuteTime": {
     "end_time": "2021-05-03T17:26:02.276830Z",
     "start_time": "2021-05-03T17:26:02.011800Z"
    }
   },
   "outputs": [
    {
     "data": {
      "text/plain": [
       "<AxesSubplot:ylabel='Frequency'>"
      ]
     },
     "execution_count": 28,
     "metadata": {},
     "output_type": "execute_result"
    },
    {
     "data": {
      "image/png": "[encoded data removed]",
      "text/plain": [
       "<Figure size 432x288 with 1 Axes>"
      ]
     },
     "metadata": {
      "needs_background": "light"
     },
     "output_type": "display_data"
    }
   ],
   "source": [
    "player_csv['Age'].plot.hist(bins=20)"
   ]
  },
  {
   "cell_type": "code",
   "execution_count": 29,
   "metadata": {
    "ExecuteTime": {
     "end_time": "2021-05-03T17:26:02.289141Z",
     "start_time": "2021-05-03T17:26:02.278725Z"
    }
   },
   "outputs": [
    {
     "data": {
      "text/html": [
       "<div>\n",
       "<style scoped>\n",
       "    .dataframe tbody tr th:only-of-type {\n",
       "        vertical-align: middle;\n",
       "    }\n",
       "\n",
       "    .dataframe tbody tr th {\n",
       "        vertical-align: top;\n",
       "    }\n",
       "\n",
       "    .dataframe thead th {\n",
       "        text-align: right;\n",
       "    }\n",
       "</style>\n",
       "<table border=\"1\" class=\"dataframe\">\n",
       "  <thead>\n",
       "    <tr style=\"text-align: right;\">\n",
       "      <th></th>\n",
       "      <th>Age</th>\n",
       "      <th>Potential</th>\n",
       "      <th>Overall</th>\n",
       "      <th>Value</th>\n",
       "      <th>Wage</th>\n",
       "      <th>Release Clause</th>\n",
       "    </tr>\n",
       "  </thead>\n",
       "  <tbody>\n",
       "    <tr>\n",
       "      <th>0</th>\n",
       "      <td>31</td>\n",
       "      <td>94</td>\n",
       "      <td>94</td>\n",
       "      <td>110500000.0</td>\n",
       "      <td>565000.0</td>\n",
       "      <td>226500000.0</td>\n",
       "    </tr>\n",
       "    <tr>\n",
       "      <th>1</th>\n",
       "      <td>33</td>\n",
       "      <td>94</td>\n",
       "      <td>94</td>\n",
       "      <td>77000000.0</td>\n",
       "      <td>405000.0</td>\n",
       "      <td>127100000.0</td>\n",
       "    </tr>\n",
       "    <tr>\n",
       "      <th>2</th>\n",
       "      <td>26</td>\n",
       "      <td>93</td>\n",
       "      <td>92</td>\n",
       "      <td>118500000.0</td>\n",
       "      <td>290000.0</td>\n",
       "      <td>228100000.0</td>\n",
       "    </tr>\n",
       "    <tr>\n",
       "      <th>3</th>\n",
       "      <td>27</td>\n",
       "      <td>93</td>\n",
       "      <td>91</td>\n",
       "      <td>72000000.0</td>\n",
       "      <td>260000.0</td>\n",
       "      <td>138600000.0</td>\n",
       "    </tr>\n",
       "    <tr>\n",
       "      <th>4</th>\n",
       "      <td>27</td>\n",
       "      <td>92</td>\n",
       "      <td>91</td>\n",
       "      <td>102000000.0</td>\n",
       "      <td>355000.0</td>\n",
       "      <td>196400000.0</td>\n",
       "    </tr>\n",
       "  </tbody>\n",
       "</table>\n",
       "</div>"
      ],
      "text/plain": [
       "   Age  Potential  Overall        Value      Wage  Release Clause\n",
       "0   31         94       94  110500000.0  565000.0     226500000.0\n",
       "1   33         94       94   77000000.0  405000.0     127100000.0\n",
       "2   26         93       92  118500000.0  290000.0     228100000.0\n",
       "3   27         93       91   72000000.0  260000.0     138600000.0\n",
       "4   27         92       91  102000000.0  355000.0     196400000.0"
      ]
     },
     "execution_count": 29,
     "metadata": {},
     "output_type": "execute_result"
    }
   ],
   "source": [
    "player_csv[['Age','Potential','Overall','Value','Wage','Release Clause']].head()"
   ]
  },
  {
   "cell_type": "code",
   "execution_count": 30,
   "metadata": {
    "ExecuteTime": {
     "end_time": "2021-05-03T17:26:02.666074Z",
     "start_time": "2021-05-03T17:26:02.290783Z"
    }
   },
   "outputs": [
    {
     "data": {
      "text/plain": [
       "<AxesSubplot:>"
      ]
     },
     "execution_count": 30,
     "metadata": {},
     "output_type": "execute_result"
    },
    {
     "data": {
      "image/png": "[encoded data removed]",
      "text/plain": [
       "<Figure size 432x288 with 2 Axes>"
      ]
     },
     "metadata": {
      "needs_background": "light"
     },
     "output_type": "display_data"
    }
   ],
   "source": [
    "sns.heatmap(player_csv[['Age','Potential','Overall','Value','Wage','Release Clause']].corr(),annot=True)"
   ]
  },
  {
   "cell_type": "code",
   "execution_count": 31,
   "metadata": {
    "ExecuteTime": {
     "end_time": "2021-05-03T17:26:08.352846Z",
     "start_time": "2021-05-03T17:26:02.670468Z"
    }
   },
   "outputs": [
    {
     "data": {
      "text/plain": [
       "<seaborn.axisgrid.PairGrid at 0x7f4e90e23710>"
      ]
     },
     "execution_count": 31,
     "metadata": {},
     "output_type": "execute_result"
    },
    {
     "data": {
      "image/png": "[encoded data removed]",
      "text/plain": [
       "<Figure size 1080x1080 with 42 Axes>"
      ]
     },
     "metadata": {
      "needs_background": "light"
     },
     "output_type": "display_data"
    }
   ],
   "source": [
    "sns.pairplot(player_csv[['Age','Potential','Overall','Value','Wage','Release Clause']])"
   ]
  },
  {
   "cell_type": "markdown",
   "metadata": {},
   "source": [
    "note : récupérer l'investissement des clubs sur des joueurs (déf , milieu , att) et voir le ration match gagné et perdu ainsi que le nombre de buts consedée et marqué"
   ]
  },
  {
   "cell_type": "code",
   "execution_count": 32,
   "metadata": {
    "ExecuteTime": {
     "end_time": "2021-05-03T17:26:08.378054Z",
     "start_time": "2021-05-03T17:26:08.360031Z"
    }
   },
   "outputs": [
    {
     "data": {
      "text/html": [
       "<div>\n",
       "<style scoped>\n",
       "    .dataframe tbody tr th:only-of-type {\n",
       "        vertical-align: middle;\n",
       "    }\n",
       "\n",
       "    .dataframe tbody tr th {\n",
       "        vertical-align: top;\n",
       "    }\n",
       "\n",
       "    .dataframe thead th {\n",
       "        text-align: right;\n",
       "    }\n",
       "</style>\n",
       "<table border=\"1\" class=\"dataframe\">\n",
       "  <thead>\n",
       "    <tr style=\"text-align: right;\">\n",
       "      <th></th>\n",
       "      <th>Value</th>\n",
       "    </tr>\n",
       "    <tr>\n",
       "      <th>Position_simp</th>\n",
       "      <th></th>\n",
       "    </tr>\n",
       "  </thead>\n",
       "  <tbody>\n",
       "    <tr>\n",
       "      <th>attak</th>\n",
       "      <td>2.984156e+06</td>\n",
       "    </tr>\n",
       "    <tr>\n",
       "      <th>midle</th>\n",
       "      <td>2.760639e+06</td>\n",
       "    </tr>\n",
       "    <tr>\n",
       "      <th>defense</th>\n",
       "      <td>1.975138e+06</td>\n",
       "    </tr>\n",
       "    <tr>\n",
       "      <th>goalkeeper</th>\n",
       "      <td>1.585815e+06</td>\n",
       "    </tr>\n",
       "  </tbody>\n",
       "</table>\n",
       "</div>"
      ],
      "text/plain": [
       "                      Value\n",
       "Position_simp              \n",
       "attak          2.984156e+06\n",
       "midle          2.760639e+06\n",
       "defense        1.975138e+06\n",
       "goalkeeper     1.585815e+06"
      ]
     },
     "execution_count": 32,
     "metadata": {},
     "output_type": "execute_result"
    }
   ],
   "source": [
    "player_csv[['Position_simp','Value']].groupby(['Position_simp']).mean().sort_values(by='Value',ascending=False)"
   ]
  },
  {
   "cell_type": "code",
   "execution_count": 33,
   "metadata": {
    "ExecuteTime": {
     "end_time": "2021-05-03T17:26:08.395500Z",
     "start_time": "2021-05-03T17:26:08.380507Z"
    }
   },
   "outputs": [],
   "source": [
    "position_investissement = player_csv[['Club','Position_simp','Value']].groupby(['Club','Position_simp']).sum().sort_values(by='Value',ascending=False)"
   ]
  },
  {
   "cell_type": "code",
   "execution_count": 34,
   "metadata": {
    "ExecuteTime": {
     "end_time": "2021-05-03T17:26:08.410675Z",
     "start_time": "2021-05-03T17:26:08.397393Z"
    }
   },
   "outputs": [
    {
     "data": {
      "text/html": [
       "<div>\n",
       "<style scoped>\n",
       "    .dataframe tbody tr th:only-of-type {\n",
       "        vertical-align: middle;\n",
       "    }\n",
       "\n",
       "    .dataframe tbody tr th {\n",
       "        vertical-align: top;\n",
       "    }\n",
       "\n",
       "    .dataframe thead th {\n",
       "        text-align: right;\n",
       "    }\n",
       "</style>\n",
       "<table border=\"1\" class=\"dataframe\">\n",
       "  <thead>\n",
       "    <tr style=\"text-align: right;\">\n",
       "      <th></th>\n",
       "      <th></th>\n",
       "      <th>Value</th>\n",
       "    </tr>\n",
       "    <tr>\n",
       "      <th>Club</th>\n",
       "      <th>Position_simp</th>\n",
       "      <th></th>\n",
       "    </tr>\n",
       "  </thead>\n",
       "  <tbody>\n",
       "    <tr>\n",
       "      <th>FC Bayern München</th>\n",
       "      <th>midle</th>\n",
       "      <td>362050000.0</td>\n",
       "    </tr>\n",
       "    <tr>\n",
       "      <th>Liverpool</th>\n",
       "      <th>midle</th>\n",
       "      <td>358300000.0</td>\n",
       "    </tr>\n",
       "    <tr>\n",
       "      <th>FC Barcelona</th>\n",
       "      <th>attak</th>\n",
       "      <td>346575000.0</td>\n",
       "    </tr>\n",
       "    <tr>\n",
       "      <th>Atlético Madrid</th>\n",
       "      <th>midle</th>\n",
       "      <td>338425000.0</td>\n",
       "    </tr>\n",
       "    <tr>\n",
       "      <th>Manchester City</th>\n",
       "      <th>attak</th>\n",
       "      <td>325600000.0</td>\n",
       "    </tr>\n",
       "    <tr>\n",
       "      <th>Paris Saint-Germain</th>\n",
       "      <th>midle</th>\n",
       "      <td>318550000.0</td>\n",
       "    </tr>\n",
       "    <tr>\n",
       "      <th>Tottenham Hotspur</th>\n",
       "      <th>midle</th>\n",
       "      <td>294500000.0</td>\n",
       "    </tr>\n",
       "    <tr>\n",
       "      <th>Real Madrid</th>\n",
       "      <th>attak</th>\n",
       "      <td>292200000.0</td>\n",
       "    </tr>\n",
       "    <tr>\n",
       "      <th>Borussia Dortmund</th>\n",
       "      <th>midle</th>\n",
       "      <td>257300000.0</td>\n",
       "    </tr>\n",
       "    <tr>\n",
       "      <th>Juventus</th>\n",
       "      <th>midle</th>\n",
       "      <td>254500000.0</td>\n",
       "    </tr>\n",
       "    <tr>\n",
       "      <th rowspan=\"2\" valign=\"top\">Real Madrid</th>\n",
       "      <th>midle</th>\n",
       "      <td>253375000.0</td>\n",
       "    </tr>\n",
       "    <tr>\n",
       "      <th>defense</th>\n",
       "      <td>237000000.0</td>\n",
       "    </tr>\n",
       "    <tr>\n",
       "      <th>Arsenal</th>\n",
       "      <th>midle</th>\n",
       "      <td>232900000.0</td>\n",
       "    </tr>\n",
       "    <tr>\n",
       "      <th>Manchester United</th>\n",
       "      <th>midle</th>\n",
       "      <td>226000000.0</td>\n",
       "    </tr>\n",
       "    <tr>\n",
       "      <th>Manchester City</th>\n",
       "      <th>midle</th>\n",
       "      <td>221835000.0</td>\n",
       "    </tr>\n",
       "    <tr>\n",
       "      <th>FC Barcelona</th>\n",
       "      <th>midle</th>\n",
       "      <td>217900000.0</td>\n",
       "    </tr>\n",
       "    <tr>\n",
       "      <th rowspan=\"2\" valign=\"top\">Chelsea</th>\n",
       "      <th>midle</th>\n",
       "      <td>216000000.0</td>\n",
       "    </tr>\n",
       "    <tr>\n",
       "      <th>attak</th>\n",
       "      <td>212225000.0</td>\n",
       "    </tr>\n",
       "    <tr>\n",
       "      <th>FC Barcelona</th>\n",
       "      <th>defense</th>\n",
       "      <td>211150000.0</td>\n",
       "    </tr>\n",
       "    <tr>\n",
       "      <th>Inter</th>\n",
       "      <th>midle</th>\n",
       "      <td>209000000.0</td>\n",
       "    </tr>\n",
       "  </tbody>\n",
       "</table>\n",
       "</div>"
      ],
      "text/plain": [
       "                                         Value\n",
       "Club                Position_simp             \n",
       "FC Bayern München   midle          362050000.0\n",
       "Liverpool           midle          358300000.0\n",
       "FC Barcelona        attak          346575000.0\n",
       "Atlético Madrid     midle          338425000.0\n",
       "Manchester City     attak          325600000.0\n",
       "Paris Saint-Germain midle          318550000.0\n",
       "Tottenham Hotspur   midle          294500000.0\n",
       "Real Madrid         attak          292200000.0\n",
       "Borussia Dortmund   midle          257300000.0\n",
       "Juventus            midle          254500000.0\n",
       "Real Madrid         midle          253375000.0\n",
       "                    defense        237000000.0\n",
       "Arsenal             midle          232900000.0\n",
       "Manchester United   midle          226000000.0\n",
       "Manchester City     midle          221835000.0\n",
       "FC Barcelona        midle          217900000.0\n",
       "Chelsea             midle          216000000.0\n",
       "                    attak          212225000.0\n",
       "FC Barcelona        defense        211150000.0\n",
       "Inter               midle          209000000.0"
      ]
     },
     "execution_count": 34,
     "metadata": {},
     "output_type": "execute_result"
    }
   ],
   "source": [
    "position_investissement.head(20)"
   ]
  },
  {
   "cell_type": "markdown",
   "metadata": {
    "ExecuteTime": {
     "end_time": "2021-04-30T09:59:56.163616Z",
     "start_time": "2021-04-30T09:59:56.159325Z"
    }
   },
   "source": [
    "récupérer les pays qui ont le plus de bons joueurs"
   ]
  },
  {
   "cell_type": "code",
   "execution_count": 35,
   "metadata": {
    "ExecuteTime": {
     "end_time": "2021-05-03T17:26:08.582167Z",
     "start_time": "2021-05-03T17:26:08.412323Z"
    }
   },
   "outputs": [
    {
     "data": {
      "text/plain": [
       "<AxesSubplot:xlabel='Nationality'>"
      ]
     },
     "execution_count": 35,
     "metadata": {},
     "output_type": "execute_result"
    },
    {
     "data": {
      "image/png": "[encoded data removed]",
      "text/plain": [
       "<Figure size 432x288 with 1 Axes>"
      ]
     },
     "metadata": {
      "needs_background": "light"
     },
     "output_type": "display_data"
    }
   ],
   "source": [
    "player_csv[['Nationality','Overall','Potential']].groupby(['Nationality']).sum().sort_values(by=['Overall','Potential'],ascending=False).head().plot.bar()"
   ]
  },
  {
   "cell_type": "code",
   "execution_count": 36,
   "metadata": {
    "ExecuteTime": {
     "end_time": "2021-05-03T17:26:08.592430Z",
     "start_time": "2021-05-03T17:26:08.585533Z"
    }
   },
   "outputs": [
    {
     "data": {
      "text/plain": [
       "array([31, 33, 26, 27, 32, 25, 29, 28, 24, 30, 19, 40, 22, 23, 34, 35, 36,\n",
       "       37, 21, 18, 20, 39, 41, 17, 38, 45, 42, 16, 44])"
      ]
     },
     "execution_count": 36,
     "metadata": {},
     "output_type": "execute_result"
    }
   ],
   "source": [
    "player_csv['Age'].unique()"
   ]
  },
  {
   "cell_type": "markdown",
   "metadata": {
    "ExecuteTime": {
     "end_time": "2021-04-30T19:08:20.525432Z",
     "start_time": "2021-04-30T19:08:20.516224Z"
    }
   },
   "source": [
    "récupérer les pays qui ont le plus de jeunes talons "
   ]
  },
  {
   "cell_type": "code",
   "execution_count": 37,
   "metadata": {
    "ExecuteTime": {
     "end_time": "2021-05-03T17:26:08.602092Z",
     "start_time": "2021-05-03T17:26:08.594224Z"
    }
   },
   "outputs": [
    {
     "data": {
      "text/plain": [
       "['id',\n",
       " 'country_id',\n",
       " 'league_id',\n",
       " 'season',\n",
       " 'stage',\n",
       " 'date',\n",
       " 'match_api_id',\n",
       " 'home_team_api_id',\n",
       " 'away_team_api_id',\n",
       " 'home_team_goal',\n",
       " 'away_team_goal',\n",
       " 'home_player_X1',\n",
       " 'home_player_X2',\n",
       " 'home_player_X3',\n",
       " 'home_player_X4',\n",
       " 'home_player_X5',\n",
       " 'home_player_X6',\n",
       " 'home_player_X7',\n",
       " 'home_player_X8',\n",
       " 'home_player_X9',\n",
       " 'home_player_X10',\n",
       " 'home_player_X11',\n",
       " 'away_player_X1',\n",
       " 'away_player_X2',\n",
       " 'away_player_X3',\n",
       " 'away_player_X4',\n",
       " 'away_player_X5',\n",
       " 'away_player_X6',\n",
       " 'away_player_X7',\n",
       " 'away_player_X8',\n",
       " 'away_player_X9',\n",
       " 'away_player_X10',\n",
       " 'away_player_X11',\n",
       " 'home_player_Y1',\n",
       " 'home_player_Y2',\n",
       " 'home_player_Y3',\n",
       " 'home_player_Y4',\n",
       " 'home_player_Y5',\n",
       " 'home_player_Y6',\n",
       " 'home_player_Y7',\n",
       " 'home_player_Y8',\n",
       " 'home_player_Y9',\n",
       " 'home_player_Y10',\n",
       " 'home_player_Y11',\n",
       " 'away_player_Y1',\n",
       " 'away_player_Y2',\n",
       " 'away_player_Y3',\n",
       " 'away_player_Y4',\n",
       " 'away_player_Y5',\n",
       " 'away_player_Y6',\n",
       " 'away_player_Y7',\n",
       " 'away_player_Y8',\n",
       " 'away_player_Y9',\n",
       " 'away_player_Y10',\n",
       " 'away_player_Y11',\n",
       " 'home_player_1',\n",
       " 'home_player_2',\n",
       " 'home_player_3',\n",
       " 'home_player_4',\n",
       " 'home_player_5',\n",
       " 'home_player_6',\n",
       " 'home_player_7',\n",
       " 'home_player_8',\n",
       " 'home_player_9',\n",
       " 'home_player_10',\n",
       " 'home_player_11',\n",
       " 'away_player_1',\n",
       " 'away_player_2',\n",
       " 'away_player_3',\n",
       " 'away_player_4',\n",
       " 'away_player_5',\n",
       " 'away_player_6',\n",
       " 'away_player_7',\n",
       " 'away_player_8',\n",
       " 'away_player_9',\n",
       " 'away_player_10',\n",
       " 'away_player_11',\n",
       " 'goal',\n",
       " 'shoton',\n",
       " 'shotoff',\n",
       " 'foulcommit',\n",
       " 'card',\n",
       " 'cross',\n",
       " 'corner',\n",
       " 'possession',\n",
       " 'B365H',\n",
       " 'B365D',\n",
       " 'B365A',\n",
       " 'BWH',\n",
       " 'BWD',\n",
       " 'BWA',\n",
       " 'IWH',\n",
       " 'IWD',\n",
       " 'IWA',\n",
       " 'LBH',\n",
       " 'LBD',\n",
       " 'LBA',\n",
       " 'PSH',\n",
       " 'PSD',\n",
       " 'PSA',\n",
       " 'WHH',\n",
       " 'WHD',\n",
       " 'WHA',\n",
       " 'SJH',\n",
       " 'SJD',\n",
       " 'SJA',\n",
       " 'VCH',\n",
       " 'VCD',\n",
       " 'VCA',\n",
       " 'GBH',\n",
       " 'GBD',\n",
       " 'GBA',\n",
       " 'BSH',\n",
       " 'BSD',\n",
       " 'BSA']"
      ]
     },
     "execution_count": 37,
     "metadata": {},
     "output_type": "execute_result"
    }
   ],
   "source": [
    "Match.columns.to_list()"
   ]
  },
  {
   "cell_type": "code",
   "execution_count": 38,
   "metadata": {
    "ExecuteTime": {
     "end_time": "2021-05-03T17:26:08.629043Z",
     "start_time": "2021-05-03T17:26:08.603966Z"
    }
   },
   "outputs": [
    {
     "data": {
      "text/html": [
       "<div>\n",
       "<style scoped>\n",
       "    .dataframe tbody tr th:only-of-type {\n",
       "        vertical-align: middle;\n",
       "    }\n",
       "\n",
       "    .dataframe tbody tr th {\n",
       "        vertical-align: top;\n",
       "    }\n",
       "\n",
       "    .dataframe thead th {\n",
       "        text-align: right;\n",
       "    }\n",
       "</style>\n",
       "<table border=\"1\" class=\"dataframe\">\n",
       "  <thead>\n",
       "    <tr style=\"text-align: right;\">\n",
       "      <th></th>\n",
       "      <th>id</th>\n",
       "      <th>country_id</th>\n",
       "      <th>league_id</th>\n",
       "      <th>season</th>\n",
       "      <th>stage</th>\n",
       "      <th>date</th>\n",
       "      <th>match_api_id</th>\n",
       "      <th>home_team_api_id</th>\n",
       "      <th>away_team_api_id</th>\n",
       "      <th>home_team_goal</th>\n",
       "      <th>...</th>\n",
       "      <th>SJA</th>\n",
       "      <th>VCH</th>\n",
       "      <th>VCD</th>\n",
       "      <th>VCA</th>\n",
       "      <th>GBH</th>\n",
       "      <th>GBD</th>\n",
       "      <th>GBA</th>\n",
       "      <th>BSH</th>\n",
       "      <th>BSD</th>\n",
       "      <th>BSA</th>\n",
       "    </tr>\n",
       "  </thead>\n",
       "  <tbody>\n",
       "    <tr>\n",
       "      <th>0</th>\n",
       "      <td>1</td>\n",
       "      <td>1</td>\n",
       "      <td>1</td>\n",
       "      <td>2008/2009</td>\n",
       "      <td>1</td>\n",
       "      <td>2008-08-17 00:00:00</td>\n",
       "      <td>492473</td>\n",
       "      <td>9987</td>\n",
       "      <td>9993</td>\n",
       "      <td>1</td>\n",
       "      <td>...</td>\n",
       "      <td>4.00</td>\n",
       "      <td>1.65</td>\n",
       "      <td>3.40</td>\n",
       "      <td>4.50</td>\n",
       "      <td>1.78</td>\n",
       "      <td>3.25</td>\n",
       "      <td>4.00</td>\n",
       "      <td>1.73</td>\n",
       "      <td>3.40</td>\n",
       "      <td>4.20</td>\n",
       "    </tr>\n",
       "    <tr>\n",
       "      <th>1</th>\n",
       "      <td>2</td>\n",
       "      <td>1</td>\n",
       "      <td>1</td>\n",
       "      <td>2008/2009</td>\n",
       "      <td>1</td>\n",
       "      <td>2008-08-16 00:00:00</td>\n",
       "      <td>492474</td>\n",
       "      <td>10000</td>\n",
       "      <td>9994</td>\n",
       "      <td>0</td>\n",
       "      <td>...</td>\n",
       "      <td>3.80</td>\n",
       "      <td>2.00</td>\n",
       "      <td>3.25</td>\n",
       "      <td>3.25</td>\n",
       "      <td>1.85</td>\n",
       "      <td>3.25</td>\n",
       "      <td>3.75</td>\n",
       "      <td>1.91</td>\n",
       "      <td>3.25</td>\n",
       "      <td>3.60</td>\n",
       "    </tr>\n",
       "    <tr>\n",
       "      <th>2</th>\n",
       "      <td>3</td>\n",
       "      <td>1</td>\n",
       "      <td>1</td>\n",
       "      <td>2008/2009</td>\n",
       "      <td>1</td>\n",
       "      <td>2008-08-16 00:00:00</td>\n",
       "      <td>492475</td>\n",
       "      <td>9984</td>\n",
       "      <td>8635</td>\n",
       "      <td>0</td>\n",
       "      <td>...</td>\n",
       "      <td>2.50</td>\n",
       "      <td>2.35</td>\n",
       "      <td>3.25</td>\n",
       "      <td>2.65</td>\n",
       "      <td>2.50</td>\n",
       "      <td>3.20</td>\n",
       "      <td>2.50</td>\n",
       "      <td>2.30</td>\n",
       "      <td>3.20</td>\n",
       "      <td>2.75</td>\n",
       "    </tr>\n",
       "    <tr>\n",
       "      <th>3</th>\n",
       "      <td>4</td>\n",
       "      <td>1</td>\n",
       "      <td>1</td>\n",
       "      <td>2008/2009</td>\n",
       "      <td>1</td>\n",
       "      <td>2008-08-17 00:00:00</td>\n",
       "      <td>492476</td>\n",
       "      <td>9991</td>\n",
       "      <td>9998</td>\n",
       "      <td>5</td>\n",
       "      <td>...</td>\n",
       "      <td>7.50</td>\n",
       "      <td>1.45</td>\n",
       "      <td>3.75</td>\n",
       "      <td>6.50</td>\n",
       "      <td>1.50</td>\n",
       "      <td>3.75</td>\n",
       "      <td>5.50</td>\n",
       "      <td>1.44</td>\n",
       "      <td>3.75</td>\n",
       "      <td>6.50</td>\n",
       "    </tr>\n",
       "    <tr>\n",
       "      <th>4</th>\n",
       "      <td>5</td>\n",
       "      <td>1</td>\n",
       "      <td>1</td>\n",
       "      <td>2008/2009</td>\n",
       "      <td>1</td>\n",
       "      <td>2008-08-16 00:00:00</td>\n",
       "      <td>492477</td>\n",
       "      <td>7947</td>\n",
       "      <td>9985</td>\n",
       "      <td>1</td>\n",
       "      <td>...</td>\n",
       "      <td>1.73</td>\n",
       "      <td>4.50</td>\n",
       "      <td>3.40</td>\n",
       "      <td>1.65</td>\n",
       "      <td>4.50</td>\n",
       "      <td>3.50</td>\n",
       "      <td>1.65</td>\n",
       "      <td>4.75</td>\n",
       "      <td>3.30</td>\n",
       "      <td>1.67</td>\n",
       "    </tr>\n",
       "  </tbody>\n",
       "</table>\n",
       "<p>5 rows × 115 columns</p>\n",
       "</div>"
      ],
      "text/plain": [
       "   id  country_id  league_id     season  stage                 date  \\\n",
       "0   1           1          1  2008/2009      1  2008-08-17 00:00:00   \n",
       "1   2           1          1  2008/2009      1  2008-08-16 00:00:00   \n",
       "2   3           1          1  2008/2009      1  2008-08-16 00:00:00   \n",
       "3   4           1          1  2008/2009      1  2008-08-17 00:00:00   \n",
       "4   5           1          1  2008/2009      1  2008-08-16 00:00:00   \n",
       "\n",
       "   match_api_id  home_team_api_id  away_team_api_id  home_team_goal  ...  \\\n",
       "0        492473              9987              9993               1  ...   \n",
       "1        492474             10000              9994               0  ...   \n",
       "2        492475              9984              8635               0  ...   \n",
       "3        492476              9991              9998               5  ...   \n",
       "4        492477              7947              9985               1  ...   \n",
       "\n",
       "    SJA   VCH   VCD   VCA   GBH   GBD   GBA   BSH   BSD   BSA  \n",
       "0  4.00  1.65  3.40  4.50  1.78  3.25  4.00  1.73  3.40  4.20  \n",
       "1  3.80  2.00  3.25  3.25  1.85  3.25  3.75  1.91  3.25  3.60  \n",
       "2  2.50  2.35  3.25  2.65  2.50  3.20  2.50  2.30  3.20  2.75  \n",
       "3  7.50  1.45  3.75  6.50  1.50  3.75  5.50  1.44  3.75  6.50  \n",
       "4  1.73  4.50  3.40  1.65  4.50  3.50  1.65  4.75  3.30  1.67  \n",
       "\n",
       "[5 rows x 115 columns]"
      ]
     },
     "execution_count": 38,
     "metadata": {},
     "output_type": "execute_result"
    }
   ],
   "source": [
    "Match.head()"
   ]
  },
  {
   "cell_type": "markdown",
   "metadata": {},
   "source": [
    "récupérer le gagnnt du match"
   ]
  },
  {
   "cell_type": "code",
   "execution_count": 39,
   "metadata": {
    "ExecuteTime": {
     "end_time": "2021-05-03T17:26:08.638738Z",
     "start_time": "2021-05-03T17:26:08.631227Z"
    },
    "slideshow": {
     "slide_type": "-"
    }
   },
   "outputs": [
    {
     "data": {
      "text/plain": [
       "home_team_goal    int64\n",
       "away_team_goal    int64\n",
       "dtype: object"
      ]
     },
     "execution_count": 39,
     "metadata": {},
     "output_type": "execute_result"
    }
   ],
   "source": [
    "Match[['home_team_goal','away_team_goal']].dtypes"
   ]
  },
  {
   "cell_type": "code",
   "execution_count": 40,
   "metadata": {
    "ExecuteTime": {
     "end_time": "2021-05-03T17:26:08.644632Z",
     "start_time": "2021-05-03T17:26:08.640955Z"
    }
   },
   "outputs": [],
   "source": [
    "Match['Winner'] = 0"
   ]
  },
  {
   "cell_type": "code",
   "execution_count": 41,
   "metadata": {
    "ExecuteTime": {
     "end_time": "2021-05-03T17:26:08.661682Z",
     "start_time": "2021-05-03T17:26:08.646789Z"
    }
   },
   "outputs": [
    {
     "name": "stderr",
     "output_type": "stream",
     "text": [
      "/opt/conda/lib/python3.7/site-packages/ipykernel_launcher.py:1: SettingWithCopyWarning: \n",
      "A value is trying to be set on a copy of a slice from a DataFrame\n",
      "\n",
      "See the caveats in the documentation: https://pandas.pydata.org/pandas-docs/stable/user_guide/indexing.html#returning-a-view-versus-a-copy\n",
      "  \"\"\"Entry point for launching an IPython kernel.\n",
      "/opt/conda/lib/python3.7/site-packages/ipykernel_launcher.py:2: SettingWithCopyWarning: \n",
      "A value is trying to be set on a copy of a slice from a DataFrame\n",
      "\n",
      "See the caveats in the documentation: https://pandas.pydata.org/pandas-docs/stable/user_guide/indexing.html#returning-a-view-versus-a-copy\n",
      "  \n"
     ]
    }
   ],
   "source": [
    "Match['Winner'][Match['home_team_goal']>Match['away_team_goal']] = 1\n",
    "Match['Winner'][Match['home_team_goal']<Match['away_team_goal']] = 2"
   ]
  }
 ],
 "metadata": {
  "celltoolbar": "Diaporama",
  "kernelspec": {
   "display_name": "Python 3",
   "language": "python",
   "name": "python3"
  },
  "language_info": {
   "codemirror_mode": {
    "name": "ipython",
    "version": 3
   },
   "file_extension": ".py",
   "mimetype": "text/x-python",
   "name": "python",
   "nbconvert_exporter": "python",
   "pygments_lexer": "ipython3",
   "version": "3.7.7"
  },
  "toc": {
   "base_numbering": 1,
   "nav_menu": {},
   "number_sections": false,
   "sideBar": true,
   "skip_h1_title": false,
   "title_cell": "Table of Contents",
   "title_sidebar": "Contents",
   "toc_cell": false,
   "toc_position": {},
   "toc_section_display": true,
   "toc_window_display": false
  }
 },
 "nbformat": 4,
 "nbformat_minor": 5
}
